{
 "cells": [
  {
   "cell_type": "code",
   "execution_count": 4,
   "metadata": {
    "executionInfo": {
     "elapsed": 7265,
     "status": "ok",
     "timestamp": 1645975828992,
     "user": {
      "displayName": "Alexey Klimov",
      "photoUrl": "https://lh3.googleusercontent.com/a/default-user=s64",
      "userId": "16102825217955361469"
     },
     "user_tz": -180
    },
    "id": "fD0uQYITnPGA"
   },
   "outputs": [],
   "source": [
    "import pandas as pd\n",
    "import numpy as np\n",
    "\n",
    "from nltk import word_tokenize\n",
    "\n",
    "import torch\n",
    "from torch import nn\n",
    "import torch.nn.functional as F\n",
    "from torch.nn.utils.rnn import pad_sequence\n",
    "\n",
    "import torchtext\n",
    "import random\n",
    "\n",
    "from sklearn.metrics import classification_report\n",
    "from sklearn.metrics import accuracy_score"
   ]
  },
  {
   "cell_type": "markdown",
   "metadata": {
    "id": "F2GUITCDoTUD"
   },
   "source": [
    "# Загрузка данных"
   ]
  },
  {
   "cell_type": "code",
   "execution_count": 6,
   "metadata": {
    "executionInfo": {
     "elapsed": 4075,
     "status": "ok",
     "timestamp": 1645975857620,
     "user": {
      "displayName": "Alexey Klimov",
      "photoUrl": "https://lh3.googleusercontent.com/a/default-user=s64",
      "userId": "16102825217955361469"
     },
     "user_tz": -180
    },
    "id": "GhtXW8S3oXGm"
   },
   "outputs": [],
   "source": [
    " ! pip install -q kaggle"
   ]
  },
  {
   "cell_type": "code",
   "execution_count": 7,
   "metadata": {
    "executionInfo": {
     "elapsed": 6,
     "status": "ok",
     "timestamp": 1645975857621,
     "user": {
      "displayName": "Alexey Klimov",
      "photoUrl": "https://lh3.googleusercontent.com/a/default-user=s64",
      "userId": "16102825217955361469"
     },
     "user_tz": -180
    },
    "id": "ZdrH28VeoaCU"
   },
   "outputs": [],
   "source": [
    "from google.colab import files"
   ]
  },
  {
   "cell_type": "code",
   "execution_count": 9,
   "metadata": {
    "executionInfo": {
     "elapsed": 1,
     "status": "ok",
     "timestamp": 1645975868089,
     "user": {
      "displayName": "Alexey Klimov",
      "photoUrl": "https://lh3.googleusercontent.com/a/default-user=s64",
      "userId": "16102825217955361469"
     },
     "user_tz": -180
    },
    "id": "boZM2HEHoaIj"
   },
   "outputs": [],
   "source": [
    " ! mkdir /root/.kaggle"
   ]
  },
  {
   "cell_type": "code",
   "execution_count": 10,
   "metadata": {
    "executionInfo": {
     "elapsed": 370,
     "status": "ok",
     "timestamp": 1645975868740,
     "user": {
      "displayName": "Alexey Klimov",
      "photoUrl": "https://lh3.googleusercontent.com/a/default-user=s64",
      "userId": "16102825217955361469"
     },
     "user_tz": -180
    },
    "id": "cKjqYp9ioaK8"
   },
   "outputs": [],
   "source": [
    "! cp kaggle.json /root/.kaggle"
   ]
  },
  {
   "cell_type": "code",
   "execution_count": 11,
   "metadata": {
    "executionInfo": {
     "elapsed": 3,
     "status": "ok",
     "timestamp": 1645975868741,
     "user": {
      "displayName": "Alexey Klimov",
      "photoUrl": "https://lh3.googleusercontent.com/a/default-user=s64",
      "userId": "16102825217955361469"
     },
     "user_tz": -180
    },
    "id": "Du75cxH5ojws"
   },
   "outputs": [],
   "source": [
    "! chmod 600 /root/.kaggle/kaggle.json"
   ]
  },
  {
   "cell_type": "code",
   "execution_count": 12,
   "metadata": {
    "colab": {
     "base_uri": "https://localhost:8080/"
    },
    "executionInfo": {
     "elapsed": 882,
     "status": "ok",
     "timestamp": 1645975869620,
     "user": {
      "displayName": "Alexey Klimov",
      "photoUrl": "https://lh3.googleusercontent.com/a/default-user=s64",
      "userId": "16102825217955361469"
     },
     "user_tz": -180
    },
    "id": "Lduo7lxIojzN",
    "outputId": "bf391d5a-b284-4862-e849-171d8485b7ba"
   },
   "outputs": [
    {
     "name": "stdout",
     "output_type": "stream",
     "text": [
      "Downloading prepost-product-purchase-questions.zip to /content\n",
      " 61% 13.0M/21.2M [00:00<00:00, 134MB/s]\n",
      "100% 21.2M/21.2M [00:00<00:00, 135MB/s]\n"
     ]
    }
   ],
   "source": [
    "!kaggle datasets download -d abhijeetbhilare/prepost-product-purchase-questions"
   ]
  },
  {
   "cell_type": "code",
   "execution_count": 13,
   "metadata": {
    "colab": {
     "base_uri": "https://localhost:8080/"
    },
    "executionInfo": {
     "elapsed": 1112,
     "status": "ok",
     "timestamp": 1645975870730,
     "user": {
      "displayName": "Alexey Klimov",
      "photoUrl": "https://lh3.googleusercontent.com/a/default-user=s64",
      "userId": "16102825217955361469"
     },
     "user_tz": -180
    },
    "id": "dkCHB-a0qZkf",
    "outputId": "a63d8f15-9fee-4337-ef8e-f14ce33b99d8"
   },
   "outputs": [
    {
     "name": "stdout",
     "output_type": "stream",
     "text": [
      "Archive:  prepost-product-purchase-questions.zip\n",
      "  inflating: Pre_Post_Questions.csv  \n"
     ]
    }
   ],
   "source": [
    " !unzip prepost-product-purchase-questions.zip"
   ]
  },
  {
   "cell_type": "code",
   "execution_count": 14,
   "metadata": {
    "colab": {
     "base_uri": "https://localhost:8080/"
    },
    "executionInfo": {
     "elapsed": 261,
     "status": "ok",
     "timestamp": 1645975870987,
     "user": {
      "displayName": "Alexey Klimov",
      "photoUrl": "https://lh3.googleusercontent.com/a/default-user=s64",
      "userId": "16102825217955361469"
     },
     "user_tz": -180
    },
    "id": "fBSUci7OqdP1",
    "outputId": "f9c61028-f2e6-4b79-b3d6-0253975799d4"
   },
   "outputs": [
    {
     "name": "stdout",
     "output_type": "stream",
     "text": [
      "kaggle.json\t\t\t\tPre_Post_Questions.csv\n",
      "prepost-product-purchase-questions.zip\tsample_data\n"
     ]
    }
   ],
   "source": [
    "!ls"
   ]
  },
  {
   "cell_type": "markdown",
   "metadata": {
    "id": "HVLcs9pdqpuz"
   },
   "source": [
    "# Обзор данных"
   ]
  },
  {
   "cell_type": "code",
   "execution_count": 81,
   "metadata": {
    "colab": {
     "base_uri": "https://localhost:8080/",
     "height": 363
    },
    "executionInfo": {
     "elapsed": 1792,
     "status": "ok",
     "timestamp": 1645978385488,
     "user": {
      "displayName": "Alexey Klimov",
      "photoUrl": "https://lh3.googleusercontent.com/a/default-user=s64",
      "userId": "16102825217955361469"
     },
     "user_tz": -180
    },
    "id": "YNaZhvVdqhz9",
    "outputId": "7cd71445-7e36-46a6-e53e-50917b98cd6a"
   },
   "outputs": [
    {
     "data": {
      "text/html": [
       "\n",
       "  <div id=\"df-d9265af3-316d-47be-888b-e8c035dbc6d0\">\n",
       "    <div class=\"colab-df-container\">\n",
       "      <div>\n",
       "<style scoped>\n",
       "    .dataframe tbody tr th:only-of-type {\n",
       "        vertical-align: middle;\n",
       "    }\n",
       "\n",
       "    .dataframe tbody tr th {\n",
       "        vertical-align: top;\n",
       "    }\n",
       "\n",
       "    .dataframe thead th {\n",
       "        text-align: right;\n",
       "    }\n",
       "</style>\n",
       "<table border=\"1\" class=\"dataframe\">\n",
       "  <thead>\n",
       "    <tr style=\"text-align: right;\">\n",
       "      <th></th>\n",
       "      <th>id</th>\n",
       "      <th>question</th>\n",
       "      <th>item_name</th>\n",
       "      <th>label</th>\n",
       "    </tr>\n",
       "  </thead>\n",
       "  <tbody>\n",
       "    <tr>\n",
       "      <th>0</th>\n",
       "      <td>B017PICGL0</td>\n",
       "      <td>Are boots cold reliable?</td>\n",
       "      <td>Reebok Work Men's Zigkick RB7005 Work Shoe, Br...</td>\n",
       "      <td>Pre</td>\n",
       "    </tr>\n",
       "    <tr>\n",
       "      <th>1</th>\n",
       "      <td>B01HI8YEZS</td>\n",
       "      <td>is the main body rubber or plastic?</td>\n",
       "      <td>3C-Aone Galaxy S5 Case,Mangix Built-in Glass L...</td>\n",
       "      <td>Pre</td>\n",
       "    </tr>\n",
       "    <tr>\n",
       "      <th>2</th>\n",
       "      <td>B07GZ1LF4R</td>\n",
       "      <td>Do you know the thread pitch/count for the tang?</td>\n",
       "      <td>ColdLand |14.00\" Hand Forged Damascus Steel Bl...</td>\n",
       "      <td>Post</td>\n",
       "    </tr>\n",
       "    <tr>\n",
       "      <th>3</th>\n",
       "      <td>B07BMNPRFN</td>\n",
       "      <td>The item ordered came tarnished and my son nee...</td>\n",
       "      <td>BEICHUANG Beidou 7 Stars Big Dipper Star Penda...</td>\n",
       "      <td>Post</td>\n",
       "    </tr>\n",
       "    <tr>\n",
       "      <th>4</th>\n",
       "      <td>B075QQKFK3</td>\n",
       "      <td>\"I purchased these and now they look weird wit...</td>\n",
       "      <td>Alla Lighting H8 H11 LED Bulbs Xtreme Super Br...</td>\n",
       "      <td>Post</td>\n",
       "    </tr>\n",
       "    <tr>\n",
       "      <th>5</th>\n",
       "      <td>B0189R9470</td>\n",
       "      <td>How long after placing order until US delivery?</td>\n",
       "      <td>Sport/Slim Reversible Waterproof Medical Alert...</td>\n",
       "      <td>Pre</td>\n",
       "    </tr>\n",
       "    <tr>\n",
       "      <th>6</th>\n",
       "      <td>B07JFSCJB6</td>\n",
       "      <td>Wich one would you recommend to go with torque...</td>\n",
       "      <td>MCWAUTO Android 9.0 Car GPS Stereo for Audi A4...</td>\n",
       "      <td>Post</td>\n",
       "    </tr>\n",
       "    <tr>\n",
       "      <th>7</th>\n",
       "      <td>B004QYME78</td>\n",
       "      <td>Will this fit a Stern Monopoly machine?</td>\n",
       "      <td>Game Room Guys Universal Pinball Ball Shooter ...</td>\n",
       "      <td>Pre</td>\n",
       "    </tr>\n",
       "    <tr>\n",
       "      <th>8</th>\n",
       "      <td>B01N811J6K</td>\n",
       "      <td>what year were these knives made?</td>\n",
       "      <td>MTech USA MT-588BK Fixed Blade Neck Knife, Bla...</td>\n",
       "      <td>Pre</td>\n",
       "    </tr>\n",
       "    <tr>\n",
       "      <th>9</th>\n",
       "      <td>B019PJV3N4</td>\n",
       "      <td>Is the power cord detachable?</td>\n",
       "      <td>AcuRite 75100 Large 18âEDigital LED Wall Clo...</td>\n",
       "      <td>Pre</td>\n",
       "    </tr>\n",
       "  </tbody>\n",
       "</table>\n",
       "</div>\n",
       "      <button class=\"colab-df-convert\" onclick=\"convertToInteractive('df-d9265af3-316d-47be-888b-e8c035dbc6d0')\"\n",
       "              title=\"Convert this dataframe to an interactive table.\"\n",
       "              style=\"display:none;\">\n",
       "        \n",
       "  <svg xmlns=\"http://www.w3.org/2000/svg\" height=\"24px\"viewBox=\"0 0 24 24\"\n",
       "       width=\"24px\">\n",
       "    <path d=\"M0 0h24v24H0V0z\" fill=\"none\"/>\n",
       "    <path d=\"M18.56 5.44l.94 2.06.94-2.06 2.06-.94-2.06-.94-.94-2.06-.94 2.06-2.06.94zm-11 1L8.5 8.5l.94-2.06 2.06-.94-2.06-.94L8.5 2.5l-.94 2.06-2.06.94zm10 10l.94 2.06.94-2.06 2.06-.94-2.06-.94-.94-2.06-.94 2.06-2.06.94z\"/><path d=\"M17.41 7.96l-1.37-1.37c-.4-.4-.92-.59-1.43-.59-.52 0-1.04.2-1.43.59L10.3 9.45l-7.72 7.72c-.78.78-.78 2.05 0 2.83L4 21.41c.39.39.9.59 1.41.59.51 0 1.02-.2 1.41-.59l7.78-7.78 2.81-2.81c.8-.78.8-2.07 0-2.86zM5.41 20L4 18.59l7.72-7.72 1.47 1.35L5.41 20z\"/>\n",
       "  </svg>\n",
       "      </button>\n",
       "      \n",
       "  <style>\n",
       "    .colab-df-container {\n",
       "      display:flex;\n",
       "      flex-wrap:wrap;\n",
       "      gap: 12px;\n",
       "    }\n",
       "\n",
       "    .colab-df-convert {\n",
       "      background-color: #E8F0FE;\n",
       "      border: none;\n",
       "      border-radius: 50%;\n",
       "      cursor: pointer;\n",
       "      display: none;\n",
       "      fill: #1967D2;\n",
       "      height: 32px;\n",
       "      padding: 0 0 0 0;\n",
       "      width: 32px;\n",
       "    }\n",
       "\n",
       "    .colab-df-convert:hover {\n",
       "      background-color: #E2EBFA;\n",
       "      box-shadow: 0px 1px 2px rgba(60, 64, 67, 0.3), 0px 1px 3px 1px rgba(60, 64, 67, 0.15);\n",
       "      fill: #174EA6;\n",
       "    }\n",
       "\n",
       "    [theme=dark] .colab-df-convert {\n",
       "      background-color: #3B4455;\n",
       "      fill: #D2E3FC;\n",
       "    }\n",
       "\n",
       "    [theme=dark] .colab-df-convert:hover {\n",
       "      background-color: #434B5C;\n",
       "      box-shadow: 0px 1px 3px 1px rgba(0, 0, 0, 0.15);\n",
       "      filter: drop-shadow(0px 1px 2px rgba(0, 0, 0, 0.3));\n",
       "      fill: #FFFFFF;\n",
       "    }\n",
       "  </style>\n",
       "\n",
       "      <script>\n",
       "        const buttonEl =\n",
       "          document.querySelector('#df-d9265af3-316d-47be-888b-e8c035dbc6d0 button.colab-df-convert');\n",
       "        buttonEl.style.display =\n",
       "          google.colab.kernel.accessAllowed ? 'block' : 'none';\n",
       "\n",
       "        async function convertToInteractive(key) {\n",
       "          const element = document.querySelector('#df-d9265af3-316d-47be-888b-e8c035dbc6d0');\n",
       "          const dataTable =\n",
       "            await google.colab.kernel.invokeFunction('convertToInteractive',\n",
       "                                                     [key], {});\n",
       "          if (!dataTable) return;\n",
       "\n",
       "          const docLinkHtml = 'Like what you see? Visit the ' +\n",
       "            '<a target=\"_blank\" href=https://colab.research.google.com/notebooks/data_table.ipynb>data table notebook</a>'\n",
       "            + ' to learn more about interactive tables.';\n",
       "          element.innerHTML = '';\n",
       "          dataTable['output_type'] = 'display_data';\n",
       "          await google.colab.output.renderOutput(dataTable, element);\n",
       "          const docLink = document.createElement('div');\n",
       "          docLink.innerHTML = docLinkHtml;\n",
       "          element.appendChild(docLink);\n",
       "        }\n",
       "      </script>\n",
       "    </div>\n",
       "  </div>\n",
       "  "
      ],
      "text/plain": [
       "           id  ... label\n",
       "0  B017PICGL0  ...   Pre\n",
       "1  B01HI8YEZS  ...   Pre\n",
       "2  B07GZ1LF4R  ...  Post\n",
       "3  B07BMNPRFN  ...  Post\n",
       "4  B075QQKFK3  ...  Post\n",
       "5  B0189R9470  ...   Pre\n",
       "6  B07JFSCJB6  ...  Post\n",
       "7  B004QYME78  ...   Pre\n",
       "8  B01N811J6K  ...   Pre\n",
       "9  B019PJV3N4  ...   Pre\n",
       "\n",
       "[10 rows x 4 columns]"
      ]
     },
     "execution_count": 81,
     "metadata": {},
     "output_type": "execute_result"
    }
   ],
   "source": [
    "df = pd.read_csv('Pre_Post_Questions.csv',encoding=\"latin1\")\n",
    "df.head(10)"
   ]
  },
  {
   "cell_type": "code",
   "execution_count": 82,
   "metadata": {
    "colab": {
     "base_uri": "https://localhost:8080/"
    },
    "executionInfo": {
     "elapsed": 1,
     "status": "ok",
     "timestamp": 1645978386404,
     "user": {
      "displayName": "Alexey Klimov",
      "photoUrl": "https://lh3.googleusercontent.com/a/default-user=s64",
      "userId": "16102825217955361469"
     },
     "user_tz": -180
    },
    "id": "EX-PI9Nkqh2k",
    "outputId": "b81699d4-de54-4801-f4a0-9f764179ca93"
   },
   "outputs": [
    {
     "name": "stdout",
     "output_type": "stream",
     "text": [
      "<class 'pandas.core.frame.DataFrame'>\n",
      "RangeIndex: 231904 entries, 0 to 231903\n",
      "Data columns (total 4 columns):\n",
      " #   Column     Non-Null Count   Dtype \n",
      "---  ------     --------------   ----- \n",
      " 0   id         231904 non-null  object\n",
      " 1   question   231904 non-null  object\n",
      " 2   item_name  231781 non-null  object\n",
      " 3   label      231600 non-null  object\n",
      "dtypes: object(4)\n",
      "memory usage: 7.1+ MB\n"
     ]
    }
   ],
   "source": [
    "df.info()"
   ]
  },
  {
   "cell_type": "code",
   "execution_count": 83,
   "metadata": {
    "executionInfo": {
     "elapsed": 388,
     "status": "ok",
     "timestamp": 1645978387122,
     "user": {
      "displayName": "Alexey Klimov",
      "photoUrl": "https://lh3.googleusercontent.com/a/default-user=s64",
      "userId": "16102825217955361469"
     },
     "user_tz": -180
    },
    "id": "bhkvtJeL0lhW"
   },
   "outputs": [],
   "source": [
    "df = df[['question', 'label']]\n",
    "df['label'] = df['label'].map(lambda x: 0 if x=='Pre' else 1)"
   ]
  },
  {
   "cell_type": "code",
   "execution_count": 84,
   "metadata": {
    "colab": {
     "base_uri": "https://localhost:8080/",
     "height": 363
    },
    "executionInfo": {
     "elapsed": 3,
     "status": "ok",
     "timestamp": 1645978387404,
     "user": {
      "displayName": "Alexey Klimov",
      "photoUrl": "https://lh3.googleusercontent.com/a/default-user=s64",
      "userId": "16102825217955361469"
     },
     "user_tz": -180
    },
    "id": "V1tKx6bH00hG",
    "outputId": "b2a5baea-5ab2-429b-a0ab-d982cc7857c5"
   },
   "outputs": [
    {
     "data": {
      "text/html": [
       "\n",
       "  <div id=\"df-aa8bfac9-2255-480a-b0b0-ff08c8116901\">\n",
       "    <div class=\"colab-df-container\">\n",
       "      <div>\n",
       "<style scoped>\n",
       "    .dataframe tbody tr th:only-of-type {\n",
       "        vertical-align: middle;\n",
       "    }\n",
       "\n",
       "    .dataframe tbody tr th {\n",
       "        vertical-align: top;\n",
       "    }\n",
       "\n",
       "    .dataframe thead th {\n",
       "        text-align: right;\n",
       "    }\n",
       "</style>\n",
       "<table border=\"1\" class=\"dataframe\">\n",
       "  <thead>\n",
       "    <tr style=\"text-align: right;\">\n",
       "      <th></th>\n",
       "      <th>question</th>\n",
       "      <th>label</th>\n",
       "    </tr>\n",
       "  </thead>\n",
       "  <tbody>\n",
       "    <tr>\n",
       "      <th>0</th>\n",
       "      <td>Are boots cold reliable?</td>\n",
       "      <td>0</td>\n",
       "    </tr>\n",
       "    <tr>\n",
       "      <th>1</th>\n",
       "      <td>is the main body rubber or plastic?</td>\n",
       "      <td>0</td>\n",
       "    </tr>\n",
       "    <tr>\n",
       "      <th>2</th>\n",
       "      <td>Do you know the thread pitch/count for the tang?</td>\n",
       "      <td>1</td>\n",
       "    </tr>\n",
       "    <tr>\n",
       "      <th>3</th>\n",
       "      <td>The item ordered came tarnished and my son nee...</td>\n",
       "      <td>1</td>\n",
       "    </tr>\n",
       "    <tr>\n",
       "      <th>4</th>\n",
       "      <td>\"I purchased these and now they look weird wit...</td>\n",
       "      <td>1</td>\n",
       "    </tr>\n",
       "    <tr>\n",
       "      <th>5</th>\n",
       "      <td>How long after placing order until US delivery?</td>\n",
       "      <td>0</td>\n",
       "    </tr>\n",
       "    <tr>\n",
       "      <th>6</th>\n",
       "      <td>Wich one would you recommend to go with torque...</td>\n",
       "      <td>1</td>\n",
       "    </tr>\n",
       "    <tr>\n",
       "      <th>7</th>\n",
       "      <td>Will this fit a Stern Monopoly machine?</td>\n",
       "      <td>0</td>\n",
       "    </tr>\n",
       "    <tr>\n",
       "      <th>8</th>\n",
       "      <td>what year were these knives made?</td>\n",
       "      <td>0</td>\n",
       "    </tr>\n",
       "    <tr>\n",
       "      <th>9</th>\n",
       "      <td>Is the power cord detachable?</td>\n",
       "      <td>0</td>\n",
       "    </tr>\n",
       "  </tbody>\n",
       "</table>\n",
       "</div>\n",
       "      <button class=\"colab-df-convert\" onclick=\"convertToInteractive('df-aa8bfac9-2255-480a-b0b0-ff08c8116901')\"\n",
       "              title=\"Convert this dataframe to an interactive table.\"\n",
       "              style=\"display:none;\">\n",
       "        \n",
       "  <svg xmlns=\"http://www.w3.org/2000/svg\" height=\"24px\"viewBox=\"0 0 24 24\"\n",
       "       width=\"24px\">\n",
       "    <path d=\"M0 0h24v24H0V0z\" fill=\"none\"/>\n",
       "    <path d=\"M18.56 5.44l.94 2.06.94-2.06 2.06-.94-2.06-.94-.94-2.06-.94 2.06-2.06.94zm-11 1L8.5 8.5l.94-2.06 2.06-.94-2.06-.94L8.5 2.5l-.94 2.06-2.06.94zm10 10l.94 2.06.94-2.06 2.06-.94-2.06-.94-.94-2.06-.94 2.06-2.06.94z\"/><path d=\"M17.41 7.96l-1.37-1.37c-.4-.4-.92-.59-1.43-.59-.52 0-1.04.2-1.43.59L10.3 9.45l-7.72 7.72c-.78.78-.78 2.05 0 2.83L4 21.41c.39.39.9.59 1.41.59.51 0 1.02-.2 1.41-.59l7.78-7.78 2.81-2.81c.8-.78.8-2.07 0-2.86zM5.41 20L4 18.59l7.72-7.72 1.47 1.35L5.41 20z\"/>\n",
       "  </svg>\n",
       "      </button>\n",
       "      \n",
       "  <style>\n",
       "    .colab-df-container {\n",
       "      display:flex;\n",
       "      flex-wrap:wrap;\n",
       "      gap: 12px;\n",
       "    }\n",
       "\n",
       "    .colab-df-convert {\n",
       "      background-color: #E8F0FE;\n",
       "      border: none;\n",
       "      border-radius: 50%;\n",
       "      cursor: pointer;\n",
       "      display: none;\n",
       "      fill: #1967D2;\n",
       "      height: 32px;\n",
       "      padding: 0 0 0 0;\n",
       "      width: 32px;\n",
       "    }\n",
       "\n",
       "    .colab-df-convert:hover {\n",
       "      background-color: #E2EBFA;\n",
       "      box-shadow: 0px 1px 2px rgba(60, 64, 67, 0.3), 0px 1px 3px 1px rgba(60, 64, 67, 0.15);\n",
       "      fill: #174EA6;\n",
       "    }\n",
       "\n",
       "    [theme=dark] .colab-df-convert {\n",
       "      background-color: #3B4455;\n",
       "      fill: #D2E3FC;\n",
       "    }\n",
       "\n",
       "    [theme=dark] .colab-df-convert:hover {\n",
       "      background-color: #434B5C;\n",
       "      box-shadow: 0px 1px 3px 1px rgba(0, 0, 0, 0.15);\n",
       "      filter: drop-shadow(0px 1px 2px rgba(0, 0, 0, 0.3));\n",
       "      fill: #FFFFFF;\n",
       "    }\n",
       "  </style>\n",
       "\n",
       "      <script>\n",
       "        const buttonEl =\n",
       "          document.querySelector('#df-aa8bfac9-2255-480a-b0b0-ff08c8116901 button.colab-df-convert');\n",
       "        buttonEl.style.display =\n",
       "          google.colab.kernel.accessAllowed ? 'block' : 'none';\n",
       "\n",
       "        async function convertToInteractive(key) {\n",
       "          const element = document.querySelector('#df-aa8bfac9-2255-480a-b0b0-ff08c8116901');\n",
       "          const dataTable =\n",
       "            await google.colab.kernel.invokeFunction('convertToInteractive',\n",
       "                                                     [key], {});\n",
       "          if (!dataTable) return;\n",
       "\n",
       "          const docLinkHtml = 'Like what you see? Visit the ' +\n",
       "            '<a target=\"_blank\" href=https://colab.research.google.com/notebooks/data_table.ipynb>data table notebook</a>'\n",
       "            + ' to learn more about interactive tables.';\n",
       "          element.innerHTML = '';\n",
       "          dataTable['output_type'] = 'display_data';\n",
       "          await google.colab.output.renderOutput(dataTable, element);\n",
       "          const docLink = document.createElement('div');\n",
       "          docLink.innerHTML = docLinkHtml;\n",
       "          element.appendChild(docLink);\n",
       "        }\n",
       "      </script>\n",
       "    </div>\n",
       "  </div>\n",
       "  "
      ],
      "text/plain": [
       "                                            question  label\n",
       "0                           Are boots cold reliable?      0\n",
       "1                is the main body rubber or plastic?      0\n",
       "2   Do you know the thread pitch/count for the tang?      1\n",
       "3  The item ordered came tarnished and my son nee...      1\n",
       "4  \"I purchased these and now they look weird wit...      1\n",
       "5    How long after placing order until US delivery?      0\n",
       "6  Wich one would you recommend to go with torque...      1\n",
       "7            Will this fit a Stern Monopoly machine?      0\n",
       "8                  what year were these knives made?      0\n",
       "9                      Is the power cord detachable?      0"
      ]
     },
     "execution_count": 84,
     "metadata": {},
     "output_type": "execute_result"
    }
   ],
   "source": [
    "df.head(10)"
   ]
  },
  {
   "cell_type": "code",
   "execution_count": 85,
   "metadata": {
    "executionInfo": {
     "elapsed": 449,
     "status": "ok",
     "timestamp": 1645978388188,
     "user": {
      "displayName": "Alexey Klimov",
      "photoUrl": "https://lh3.googleusercontent.com/a/default-user=s64",
      "userId": "16102825217955361469"
     },
     "user_tz": -180
    },
    "id": "WxbnZy2M7RdK"
   },
   "outputs": [],
   "source": [
    "df.dropna(inplace=True)"
   ]
  },
  {
   "cell_type": "code",
   "execution_count": 86,
   "metadata": {
    "colab": {
     "base_uri": "https://localhost:8080/"
    },
    "executionInfo": {
     "elapsed": 2,
     "status": "ok",
     "timestamp": 1645978389058,
     "user": {
      "displayName": "Alexey Klimov",
      "photoUrl": "https://lh3.googleusercontent.com/a/default-user=s64",
      "userId": "16102825217955361469"
     },
     "user_tz": -180
    },
    "id": "5kBTf81L03GA",
    "outputId": "15ae162a-e4b8-488c-8941-9e935b6073a0"
   },
   "outputs": [
    {
     "data": {
      "text/plain": [
       "0    133456\n",
       "1     98448\n",
       "Name: label, dtype: int64"
      ]
     },
     "execution_count": 86,
     "metadata": {},
     "output_type": "execute_result"
    }
   ],
   "source": [
    "df.label.value_counts()"
   ]
  },
  {
   "cell_type": "code",
   "execution_count": 87,
   "metadata": {
    "executionInfo": {
     "elapsed": 2,
     "status": "ok",
     "timestamp": 1645978389349,
     "user": {
      "displayName": "Alexey Klimov",
      "photoUrl": "https://lh3.googleusercontent.com/a/default-user=s64",
      "userId": "16102825217955361469"
     },
     "user_tz": -180
    },
    "id": "q5M0T6fR1skd"
   },
   "outputs": [],
   "source": [
    "# смещения в классах не наблюдаем"
   ]
  },
  {
   "cell_type": "code",
   "execution_count": 88,
   "metadata": {
    "executionInfo": {
     "elapsed": 563,
     "status": "ok",
     "timestamp": 1645978390538,
     "user": {
      "displayName": "Alexey Klimov",
      "photoUrl": "https://lh3.googleusercontent.com/a/default-user=s64",
      "userId": "16102825217955361469"
     },
     "user_tz": -180
    },
    "id": "Nfqifgx31yTD"
   },
   "outputs": [],
   "source": [
    "df.to_csv('/data.csv')"
   ]
  },
  {
   "cell_type": "markdown",
   "metadata": {
    "id": "0N_n0E3D2MHv"
   },
   "source": [
    "# Загрузка данных в торч"
   ]
  },
  {
   "cell_type": "code",
   "execution_count": 90,
   "metadata": {
    "colab": {
     "base_uri": "https://localhost:8080/"
    },
    "executionInfo": {
     "elapsed": 372,
     "status": "ok",
     "timestamp": 1645978393274,
     "user": {
      "displayName": "Alexey Klimov",
      "photoUrl": "https://lh3.googleusercontent.com/a/default-user=s64",
      "userId": "16102825217955361469"
     },
     "user_tz": -180
    },
    "id": "6br0VaSI2O1c",
    "outputId": "921fbd62-b93f-4346-e2f0-bfa81359995f"
   },
   "outputs": [
    {
     "name": "stdout",
     "output_type": "stream",
     "text": [
      "[nltk_data] Downloading package punkt to /root/nltk_data...\n",
      "[nltk_data]   Package punkt is already up-to-date!\n"
     ]
    },
    {
     "data": {
      "text/plain": [
       "True"
      ]
     },
     "execution_count": 90,
     "metadata": {},
     "output_type": "execute_result"
    }
   ],
   "source": [
    "import nltk\n",
    "nltk.download('punkt')"
   ]
  },
  {
   "cell_type": "code",
   "execution_count": 91,
   "metadata": {
    "executionInfo": {
     "elapsed": 2,
     "status": "ok",
     "timestamp": 1645978393274,
     "user": {
      "displayName": "Alexey Klimov",
      "photoUrl": "https://lh3.googleusercontent.com/a/default-user=s64",
      "userId": "16102825217955361469"
     },
     "user_tz": -180
    },
    "id": "zU3KnfnS2RYV"
   },
   "outputs": [],
   "source": [
    "description = torchtext.legacy.data.Field(tokenize=word_tokenize, lower=True, batch_first=True)"
   ]
  },
  {
   "cell_type": "code",
   "execution_count": 92,
   "metadata": {
    "executionInfo": {
     "elapsed": 2,
     "status": "ok",
     "timestamp": 1645978393274,
     "user": {
      "displayName": "Alexey Klimov",
      "photoUrl": "https://lh3.googleusercontent.com/a/default-user=s64",
      "userId": "16102825217955361469"
     },
     "user_tz": -180
    },
    "id": "LYYeCDsX2SBE"
   },
   "outputs": [],
   "source": [
    "y = torchtext.legacy.data.Field(sequential=False, is_target=True, use_vocab=False)"
   ]
  },
  {
   "cell_type": "code",
   "execution_count": 93,
   "metadata": {
    "executionInfo": {
     "elapsed": 48783,
     "status": "ok",
     "timestamp": 1645978442434,
     "user": {
      "displayName": "Alexey Klimov",
      "photoUrl": "https://lh3.googleusercontent.com/a/default-user=s64",
      "userId": "16102825217955361469"
     },
     "user_tz": -180
    },
    "id": "WAGoW-cF2SDT"
   },
   "outputs": [],
   "source": [
    "data = torchtext.legacy.data.TabularDataset(path='/data.csv', format='csv', \n",
    "                                     fields={\n",
    "                                         'question': ('text', description),\n",
    "                                         'label': ('points', y)\n",
    "                                     })"
   ]
  },
  {
   "cell_type": "code",
   "execution_count": 94,
   "metadata": {
    "colab": {
     "base_uri": "https://localhost:8080/"
    },
    "executionInfo": {
     "elapsed": 12,
     "status": "ok",
     "timestamp": 1645978442434,
     "user": {
      "displayName": "Alexey Klimov",
      "photoUrl": "https://lh3.googleusercontent.com/a/default-user=s64",
      "userId": "16102825217955361469"
     },
     "user_tz": -180
    },
    "id": "8SNODrAs2SFl",
    "outputId": "9be154bd-56ed-48aa-ef38-408ed96955b1"
   },
   "outputs": [
    {
     "data": {
      "text/plain": [
       "<torchtext.legacy.data.dataset.TabularDataset at 0x7f208dd317d0>"
      ]
     },
     "execution_count": 94,
     "metadata": {},
     "output_type": "execute_result"
    }
   ],
   "source": [
    "data"
   ]
  },
  {
   "cell_type": "code",
   "execution_count": 95,
   "metadata": {
    "executionInfo": {
     "elapsed": 11,
     "status": "ok",
     "timestamp": 1645978442435,
     "user": {
      "displayName": "Alexey Klimov",
      "photoUrl": "https://lh3.googleusercontent.com/a/default-user=s64",
      "userId": "16102825217955361469"
     },
     "user_tz": -180
    },
    "id": "1JK_6FuF2SHq"
   },
   "outputs": [],
   "source": [
    "# скачаем библиотеку для векторных представлений word2vec "
   ]
  },
  {
   "cell_type": "code",
   "execution_count": 96,
   "metadata": {
    "colab": {
     "base_uri": "https://localhost:8080/"
    },
    "executionInfo": {
     "elapsed": 14075,
     "status": "ok",
     "timestamp": 1645978456500,
     "user": {
      "displayName": "Alexey Klimov",
      "photoUrl": "https://lh3.googleusercontent.com/a/default-user=s64",
      "userId": "16102825217955361469"
     },
     "user_tz": -180
    },
    "id": "_1gtjdav6OIT",
    "outputId": "10e6a8d3-cbb4-490a-94e6-c7803139e4ff"
   },
   "outputs": [
    {
     "name": "stdout",
     "output_type": "stream",
     "text": [
      "--2022-02-27 16:14:00--  https://dl.fbaipublicfiles.com/fasttext/vectors-english/wiki-news-300d-1M.vec.zip\n",
      "Resolving dl.fbaipublicfiles.com (dl.fbaipublicfiles.com)... 172.67.9.4, 104.22.74.142, 104.22.75.142, ...\n",
      "Connecting to dl.fbaipublicfiles.com (dl.fbaipublicfiles.com)|172.67.9.4|:443... connected.\n",
      "HTTP request sent, awaiting response... 200 OK\n",
      "Length: 681808098 (650M) [application/zip]\n",
      "Saving to: ‘wiki-news-300d-1M.vec.zip.1’\n",
      "\n",
      "wiki-news-300d-1M.v 100%[===================>] 650.22M  59.0MB/s    in 14s     \n",
      "\n",
      "2022-02-27 16:14:14 (48.0 MB/s) - ‘wiki-news-300d-1M.vec.zip.1’ saved [681808098/681808098]\n",
      "\n"
     ]
    }
   ],
   "source": [
    "!wget https://dl.fbaipublicfiles.com/fasttext/vectors-english/wiki-news-300d-1M.vec.zip"
   ]
  },
  {
   "cell_type": "code",
   "execution_count": 97,
   "metadata": {
    "colab": {
     "base_uri": "https://localhost:8080/"
    },
    "executionInfo": {
     "elapsed": 6,
     "status": "ok",
     "timestamp": 1645978456783,
     "user": {
      "displayName": "Alexey Klimov",
      "photoUrl": "https://lh3.googleusercontent.com/a/default-user=s64",
      "userId": "16102825217955361469"
     },
     "user_tz": -180
    },
    "id": "g_J4pOd86YNa",
    "outputId": "847166a4-53a4-4454-f657-723074820195"
   },
   "outputs": [
    {
     "name": "stdout",
     "output_type": "stream",
     "text": [
      "kaggle.json\t\t\t\twiki-news-300d-1M.vec\n",
      "prepost-product-purchase-questions.zip\twiki-news-300d-1M.vec.zip\n",
      "Pre_Post_Questions.csv\t\t\twiki-news-300d-1M.vec.zip.1\n",
      "sample_data\n"
     ]
    }
   ],
   "source": [
    "!ls"
   ]
  },
  {
   "cell_type": "code",
   "execution_count": 98,
   "metadata": {
    "colab": {
     "base_uri": "https://localhost:8080/"
    },
    "executionInfo": {
     "elapsed": 103287,
     "status": "ok",
     "timestamp": 1645978560068,
     "user": {
      "displayName": "Alexey Klimov",
      "photoUrl": "https://lh3.googleusercontent.com/a/default-user=s64",
      "userId": "16102825217955361469"
     },
     "user_tz": -180
    },
    "id": "zR4hix8q6klB",
    "outputId": "514e23e2-dcb4-447b-bc64-50ab67cc35a1"
   },
   "outputs": [
    {
     "name": "stdout",
     "output_type": "stream",
     "text": [
      "Archive:  wiki-news-300d-1M.vec.zip\n",
      "replace wiki-news-300d-1M.vec? [y]es, [n]o, [A]ll, [N]one, [r]ename: y\n",
      "  inflating: wiki-news-300d-1M.vec   \n",
      "A\n",
      "\n"
     ]
    }
   ],
   "source": [
    "!unzip 'wiki-news-300d-1M.vec.zip'"
   ]
  },
  {
   "cell_type": "code",
   "execution_count": 108,
   "metadata": {
    "executionInfo": {
     "elapsed": 1605,
     "status": "ok",
     "timestamp": 1645978576042,
     "user": {
      "displayName": "Alexey Klimov",
      "photoUrl": "https://lh3.googleusercontent.com/a/default-user=s64",
      "userId": "16102825217955361469"
     },
     "user_tz": -180
    },
    "id": "a7b08DHx6pIb"
   },
   "outputs": [],
   "source": [
    "description.build_vocab(data)"
   ]
  },
  {
   "cell_type": "code",
   "execution_count": 109,
   "metadata": {
    "colab": {
     "base_uri": "https://localhost:8080/"
    },
    "executionInfo": {
     "elapsed": 310,
     "status": "ok",
     "timestamp": 1645978576350,
     "user": {
      "displayName": "Alexey Klimov",
      "photoUrl": "https://lh3.googleusercontent.com/a/default-user=s64",
      "userId": "16102825217955361469"
     },
     "user_tz": -180
    },
    "id": "-L_AZ7jm68Oz",
    "outputId": "6dfa0a70-7236-4b3c-fe17-fa711999c70a"
   },
   "outputs": [
    {
     "name": "stdout",
     "output_type": "stream",
     "text": [
      "kaggle.json\t\t\t\twiki-news-300d-1M.vec\n",
      "prepost-product-purchase-questions.zip\twiki-news-300d-1M.vec.zip\n",
      "Pre_Post_Questions.csv\t\t\twiki-news-300d-1M.vec.zip.1\n",
      "sample_data\n"
     ]
    }
   ],
   "source": [
    "!ls"
   ]
  },
  {
   "cell_type": "code",
   "execution_count": 110,
   "metadata": {
    "executionInfo": {
     "elapsed": 3601,
     "status": "ok",
     "timestamp": 1645978579949,
     "user": {
      "displayName": "Alexey Klimov",
      "photoUrl": "https://lh3.googleusercontent.com/a/default-user=s64",
      "userId": "16102825217955361469"
     },
     "user_tz": -180
    },
    "id": "0fclEylX64Al"
   },
   "outputs": [],
   "source": [
    "description.vocab.load_vectors(torchtext.vocab.Vectors('wiki-news-300d-1M.vec'))"
   ]
  },
  {
   "cell_type": "code",
   "execution_count": 111,
   "metadata": {
    "colab": {
     "base_uri": "https://localhost:8080/"
    },
    "executionInfo": {
     "elapsed": 6,
     "status": "ok",
     "timestamp": 1645978579949,
     "user": {
      "displayName": "Alexey Klimov",
      "photoUrl": "https://lh3.googleusercontent.com/a/default-user=s64",
      "userId": "16102825217955361469"
     },
     "user_tz": -180
    },
    "id": "kp-ozPH167Sj",
    "outputId": "622955ea-cfdb-4ec9-95d1-3c1ab287564d"
   },
   "outputs": [
    {
     "data": {
      "text/plain": [
       "torch.Size([78757, 300])"
      ]
     },
     "execution_count": 111,
     "metadata": {},
     "output_type": "execute_result"
    }
   ],
   "source": [
    "description.vocab.vectors.shape"
   ]
  },
  {
   "cell_type": "code",
   "execution_count": 112,
   "metadata": {
    "colab": {
     "base_uri": "https://localhost:8080/"
    },
    "executionInfo": {
     "elapsed": 4,
     "status": "ok",
     "timestamp": 1645978579949,
     "user": {
      "displayName": "Alexey Klimov",
      "photoUrl": "https://lh3.googleusercontent.com/a/default-user=s64",
      "userId": "16102825217955361469"
     },
     "user_tz": -180
    },
    "id": "M76rESdP8fhq",
    "outputId": "a2f2d56f-1c70-4e2f-9516-b7afa54e23e3"
   },
   "outputs": [
    {
     "data": {
      "text/plain": [
       "torchtext.legacy.data.dataset.TabularDataset"
      ]
     },
     "execution_count": 112,
     "metadata": {},
     "output_type": "execute_result"
    }
   ],
   "source": [
    "type(data)"
   ]
  },
  {
   "cell_type": "code",
   "execution_count": 113,
   "metadata": {
    "executionInfo": {
     "elapsed": 395,
     "status": "ok",
     "timestamp": 1645978580342,
     "user": {
      "displayName": "Alexey Klimov",
      "photoUrl": "https://lh3.googleusercontent.com/a/default-user=s64",
      "userId": "16102825217955361469"
     },
     "user_tz": -180
    },
    "id": "er8ZvPsj8ijy"
   },
   "outputs": [],
   "source": [
    "train, val = data.split(split_ratio= 0.8)"
   ]
  },
  {
   "cell_type": "code",
   "execution_count": 114,
   "metadata": {
    "colab": {
     "base_uri": "https://localhost:8080/"
    },
    "executionInfo": {
     "elapsed": 5,
     "status": "ok",
     "timestamp": 1645978580343,
     "user": {
      "displayName": "Alexey Klimov",
      "photoUrl": "https://lh3.googleusercontent.com/a/default-user=s64",
      "userId": "16102825217955361469"
     },
     "user_tz": -180
    },
    "id": "5qNIrCZU8kga",
    "outputId": "938d053f-beb4-4599-acc1-8a781fcdfcc0"
   },
   "outputs": [
    {
     "data": {
      "text/plain": [
       "185523"
      ]
     },
     "execution_count": 114,
     "metadata": {},
     "output_type": "execute_result"
    }
   ],
   "source": [
    "len(train)"
   ]
  },
  {
   "cell_type": "code",
   "execution_count": 115,
   "metadata": {
    "colab": {
     "base_uri": "https://localhost:8080/"
    },
    "executionInfo": {
     "elapsed": 4,
     "status": "ok",
     "timestamp": 1645978580343,
     "user": {
      "displayName": "Alexey Klimov",
      "photoUrl": "https://lh3.googleusercontent.com/a/default-user=s64",
      "userId": "16102825217955361469"
     },
     "user_tz": -180
    },
    "id": "QYU-S2P98mFL",
    "outputId": "666eb3ff-caf1-47b1-b0d2-d9b9b32235d3"
   },
   "outputs": [
    {
     "data": {
      "text/plain": [
       "46381"
      ]
     },
     "execution_count": 115,
     "metadata": {},
     "output_type": "execute_result"
    }
   ],
   "source": [
    "len(val)"
   ]
  },
  {
   "cell_type": "markdown",
   "metadata": {
    "id": "GgdGcp6S8v7q"
   },
   "source": [
    "# Бейслайн\n"
   ]
  },
  {
   "cell_type": "code",
   "execution_count": 116,
   "metadata": {
    "executionInfo": {
     "elapsed": 2,
     "status": "ok",
     "timestamp": 1645978582419,
     "user": {
      "displayName": "Alexey Klimov",
      "photoUrl": "https://lh3.googleusercontent.com/a/default-user=s64",
      "userId": "16102825217955361469"
     },
     "user_tz": -180
    },
    "id": "gi_BNudS8uoS"
   },
   "outputs": [],
   "source": [
    "# рассмотрим наивный Байес"
   ]
  },
  {
   "cell_type": "code",
   "execution_count": 117,
   "metadata": {
    "executionInfo": {
     "elapsed": 1,
     "status": "ok",
     "timestamp": 1645978582786,
     "user": {
      "displayName": "Alexey Klimov",
      "photoUrl": "https://lh3.googleusercontent.com/a/default-user=s64",
      "userId": "16102825217955361469"
     },
     "user_tz": -180
    },
    "id": "Ngv9zlh187bD"
   },
   "outputs": [],
   "source": [
    "y = df.label\n",
    "x = df.question"
   ]
  },
  {
   "cell_type": "code",
   "execution_count": 122,
   "metadata": {
    "executionInfo": {
     "elapsed": 359,
     "status": "ok",
     "timestamp": 1645978624825,
     "user": {
      "displayName": "Alexey Klimov",
      "photoUrl": "https://lh3.googleusercontent.com/a/default-user=s64",
      "userId": "16102825217955361469"
     },
     "user_tz": -180
    },
    "id": "V84MaCr6-DFE"
   },
   "outputs": [],
   "source": [
    "from sklearn.feature_extraction.text import CountVectorizer\n",
    "from sklearn.model_selection import train_test_split"
   ]
  },
  {
   "cell_type": "code",
   "execution_count": 120,
   "metadata": {
    "colab": {
     "base_uri": "https://localhost:8080/"
    },
    "executionInfo": {
     "elapsed": 6565,
     "status": "ok",
     "timestamp": 1645978604395,
     "user": {
      "displayName": "Alexey Klimov",
      "photoUrl": "https://lh3.googleusercontent.com/a/default-user=s64",
      "userId": "16102825217955361469"
     },
     "user_tz": -180
    },
    "id": "5mq--LhE9uZb",
    "outputId": "49c8deeb-8015-42e0-8e26-302a17095377"
   },
   "outputs": [
    {
     "name": "stderr",
     "output_type": "stream",
     "text": [
      "/usr/local/lib/python3.7/dist-packages/sklearn/utils/deprecation.py:87: FutureWarning: Function get_feature_names is deprecated; get_feature_names is deprecated in 1.0 and will be removed in 1.2. Please use get_feature_names_out instead.\n",
      "  warnings.warn(msg, category=FutureWarning)\n"
     ]
    },
    {
     "data": {
      "text/plain": [
       "['00', '000', '0000', '00000', '00003']"
      ]
     },
     "execution_count": 120,
     "metadata": {},
     "output_type": "execute_result"
    }
   ],
   "source": [
    "cv = CountVectorizer()\n",
    "X = cv.fit_transform(x)\n",
    "cv.get_feature_names()[:5]"
   ]
  },
  {
   "cell_type": "code",
   "execution_count": 123,
   "metadata": {
    "executionInfo": {
     "elapsed": 282,
     "status": "ok",
     "timestamp": 1645978626980,
     "user": {
      "displayName": "Alexey Klimov",
      "photoUrl": "https://lh3.googleusercontent.com/a/default-user=s64",
      "userId": "16102825217955361469"
     },
     "user_tz": -180
    },
    "id": "zyU8NyrQ9eL8"
   },
   "outputs": [],
   "source": [
    "x_train, x_test, y_train, y_test = train_test_split(X, y, test_size=0.2, random_state=42)"
   ]
  },
  {
   "cell_type": "code",
   "execution_count": 124,
   "metadata": {
    "colab": {
     "base_uri": "https://localhost:8080/"
    },
    "executionInfo": {
     "elapsed": 402,
     "status": "ok",
     "timestamp": 1645978630223,
     "user": {
      "displayName": "Alexey Klimov",
      "photoUrl": "https://lh3.googleusercontent.com/a/default-user=s64",
      "userId": "16102825217955361469"
     },
     "user_tz": -180
    },
    "id": "48R90Lq88uqi",
    "outputId": "c4721481-8d2a-4b4d-ea6d-00fc1e97e230"
   },
   "outputs": [
    {
     "data": {
      "text/plain": [
       "0.7403031413725448"
      ]
     },
     "execution_count": 124,
     "metadata": {},
     "output_type": "execute_result"
    }
   ],
   "source": [
    "from sklearn.naive_bayes import MultinomialNB\n",
    "clf = MultinomialNB()\n",
    "clf.fit(x_train,y_train)\n",
    "clf.score(x_test,y_test)"
   ]
  },
  {
   "cell_type": "markdown",
   "metadata": {
    "id": "uqG9N2mk8qwb"
   },
   "source": [
    "# Формирование сети LSTM+W2V"
   ]
  },
  {
   "cell_type": "code",
   "execution_count": 125,
   "metadata": {
    "executionInfo": {
     "elapsed": 313,
     "status": "ok",
     "timestamp": 1645978879579,
     "user": {
      "displayName": "Alexey Klimov",
      "photoUrl": "https://lh3.googleusercontent.com/a/default-user=s64",
      "userId": "16102825217955361469"
     },
     "user_tz": -180
    },
    "id": "PDysm8iK8pub"
   },
   "outputs": [],
   "source": [
    "class lstm(nn.Module):\n",
    "    def __init__(self, w2v, padding_inx, dropout, hidden_size):\n",
    "        super(lstm, self).__init__()\n",
    "        \n",
    "        self.embedding = nn.Embedding.from_pretrained(w2v)\n",
    "        self.embedding.padding_inx = padding_inx\n",
    "\n",
    "        self.embedding.weight.requires_grad = True\n",
    "\n",
    "        self.dropout = nn.Dropout(p = dropout)\n",
    "        self.lstm = nn.LSTM(input_size = self.embedding.embedding_dim,\n",
    "                            hidden_size = hidden_size,\n",
    "                            num_layers = 2,\n",
    "                            dropout = dropout,\n",
    "                            bidirectional = True)\n",
    "        self.label = nn.Linear(hidden_size*2*2, 1)\n",
    "\n",
    "    def forward(self, sentence):\n",
    "        x = self.embedding(sentence)\n",
    "        x = torch.transpose(x, dim0 = 1, dim1 = 0)\n",
    "        out, (hidden, c) = self.lstm(x)\n",
    "        x = self.dropout(torch.cat([c[i,:,:] for i in range(c.shape[0])], dim=1))\n",
    "        x = self.label(x)\n",
    "        return x"
   ]
  },
  {
   "cell_type": "code",
   "execution_count": 126,
   "metadata": {
    "executionInfo": {
     "elapsed": 284,
     "status": "ok",
     "timestamp": 1645978907622,
     "user": {
      "displayName": "Alexey Klimov",
      "photoUrl": "https://lh3.googleusercontent.com/a/default-user=s64",
      "userId": "16102825217955361469"
     },
     "user_tz": -180
    },
    "id": "SYi1ds4Q_IIx"
   },
   "outputs": [],
   "source": [
    "batch_size = 64\n",
    "train_i = torchtext.legacy.data.BucketIterator(dataset=train,\n",
    "                                        batch_size=batch_size,\n",
    "                                        shuffle=True,\n",
    "                                        sort = False,\n",
    "                                        train =True)\n",
    "\n",
    "\n",
    "val_i = torchtext.legacy.data.BucketIterator(dataset=val,\n",
    "                                        batch_size=batch_size,\n",
    "                                        shuffle=True,\n",
    "                                        sort = False,\n",
    "                                        train = False)"
   ]
  },
  {
   "cell_type": "code",
   "execution_count": 127,
   "metadata": {
    "executionInfo": {
     "elapsed": 282,
     "status": "ok",
     "timestamp": 1645978914866,
     "user": {
      "displayName": "Alexey Klimov",
      "photoUrl": "https://lh3.googleusercontent.com/a/default-user=s64",
      "userId": "16102825217955361469"
     },
     "user_tz": -180
    },
    "id": "c7ciAHdk_PAP"
   },
   "outputs": [],
   "source": [
    "from torch import optim"
   ]
  },
  {
   "cell_type": "code",
   "execution_count": 128,
   "metadata": {
    "executionInfo": {
     "elapsed": 11803,
     "status": "ok",
     "timestamp": 1645978940860,
     "user": {
      "displayName": "Alexey Klimov",
      "photoUrl": "https://lh3.googleusercontent.com/a/default-user=s64",
      "userId": "16102825217955361469"
     },
     "user_tz": -180
    },
    "id": "7d1VFX_2_Q0D"
   },
   "outputs": [],
   "source": [
    "model = lstm(description.vocab.vectors, description.vocab.stoi[description.pad_token], dropout = 0.2, hidden_size=128).cuda()"
   ]
  },
  {
   "cell_type": "code",
   "execution_count": 129,
   "metadata": {
    "executionInfo": {
     "elapsed": 390,
     "status": "ok",
     "timestamp": 1645978946659,
     "user": {
      "displayName": "Alexey Klimov",
      "photoUrl": "https://lh3.googleusercontent.com/a/default-user=s64",
      "userId": "16102825217955361469"
     },
     "user_tz": -180
    },
    "id": "WN9gr2rl_USh"
   },
   "outputs": [],
   "source": [
    "optimizer = optim.Adam(model.parameters(), lr=1e-3)"
   ]
  },
  {
   "cell_type": "code",
   "execution_count": 130,
   "metadata": {
    "executionInfo": {
     "elapsed": 280,
     "status": "ok",
     "timestamp": 1645978952859,
     "user": {
      "displayName": "Alexey Klimov",
      "photoUrl": "https://lh3.googleusercontent.com/a/default-user=s64",
      "userId": "16102825217955361469"
     },
     "user_tz": -180
    },
    "id": "NnMbnq9__YhN"
   },
   "outputs": [],
   "source": [
    "loss = nn.BCEWithLogitsLoss()"
   ]
  },
  {
   "cell_type": "code",
   "execution_count": 131,
   "metadata": {
    "executionInfo": {
     "elapsed": 393,
     "status": "ok",
     "timestamp": 1645978976475,
     "user": {
      "displayName": "Alexey Klimov",
      "photoUrl": "https://lh3.googleusercontent.com/a/default-user=s64",
      "userId": "16102825217955361469"
     },
     "user_tz": -180
    },
    "id": "t1W2C952_Zh6"
   },
   "outputs": [],
   "source": [
    "from IPython.display import clear_output\n",
    "import matplotlib.pyplot as plt"
   ]
  },
  {
   "cell_type": "code",
   "execution_count": 132,
   "metadata": {
    "executionInfo": {
     "elapsed": 285,
     "status": "ok",
     "timestamp": 1645979349869,
     "user": {
      "displayName": "Alexey Klimov",
      "photoUrl": "https://lh3.googleusercontent.com/a/default-user=s64",
      "userId": "16102825217955361469"
     },
     "user_tz": -180
    },
    "id": "pYPDMCV9_Zj8"
   },
   "outputs": [],
   "source": [
    "def train(epochs, model, eval_time, loss_f, optimizer, train_i, val_i):\n",
    "    step = 0\n",
    "\n",
    "    losses = []\n",
    "    val_losses = []\n",
    "\n",
    "    accuracy = []\n",
    "    val_accuracy = []\n",
    "\n",
    "    train_i.init_epoch()\n",
    "    for epoch in range(epochs):\n",
    "        for batch in iter(train_i):\n",
    "            step += 1\n",
    "            model.train()\n",
    "            x = batch.text.cuda()\n",
    "            y = batch.points.type(torch.Tensor).cuda()\n",
    "\n",
    "            model.zero_grad()\n",
    "            preds = model.forward(x).view(-1)\n",
    "            loss = loss_f(preds, y)\n",
    "            losses.append(loss.cpu().data.numpy())\n",
    "            accuracy.append(accuracy_score(batch.points.data.numpy().tolist(), \n",
    "                                           np.round(np.array( torch.sigmoid(preds).cpu().data.numpy().tolist()) )) \n",
    "            )\n",
    "                                           \n",
    "\n",
    "            loss.backward()\n",
    "            optimizer.step()\n",
    "\n",
    "            if step % eval_time == 0:\n",
    "                clear_output(True)\n",
    "                model.eval()\n",
    "                model.zero_grad()\n",
    "                # val_loss = []\n",
    "\n",
    "                for batch in iter(val_i):\n",
    "                    x = batch.text.cuda()\n",
    "                    y = batch.points.type(torch.Tensor).cuda()\n",
    "\n",
    "                    preds = model.forward(x).view(-1)\n",
    "                    val_losses.append(loss_f(preds, y).cpu().data.numpy())\n",
    "                \n",
    "                    val_accuracy.append(accuracy_score(batch.points.data.numpy().tolist(), \n",
    "                                                   np.round(np.array( torch.sigmoid(preds).cpu().data.numpy().tolist() ))\n",
    "                                                   ))\n",
    "\n",
    "\n",
    "                fig, axs = plt.subplots(2, 2, figsize=(10, 10))\n",
    "                fig.suptitle('Accuracy & Loss')\n",
    "                \n",
    "                axs[0, 0].set_title('train cross-entropy loss')\n",
    "                axs[0, 1].set_title('test cross-entropy loss')\n",
    "                axs[1, 0].set_title('train accuracy')\n",
    "                axs[1, 1].set_title('test accuracy')\n",
    "\n",
    "                axs[0, 0].plot(losses)\n",
    "                axs[0, 0].plot(pd.Series(losses).rolling(400).mean().values)\n",
    "                axs[0, 1].plot(val_losses)\n",
    "                axs[0, 1].plot(pd.Series(val_losses).rolling(400).mean().values)\n",
    "                axs[1, 0].plot(accuracy)\n",
    "                axs[1, 0].plot(pd.Series(accuracy).rolling(400).mean().values)\n",
    "                axs[1, 1].plot(val_accuracy)\n",
    "                axs[1, 1].plot(pd.Series(val_accuracy).rolling(400).mean().values)\n",
    "                \n",
    "                \n",
    "\n",
    "                for ax in axs.flat:\n",
    "                    ax.set(xlabel='step')\n",
    "                    # axs[0, 0].xaxis.set_ticks(np.arange(0, epochs, 1/len(losses)))\n",
    "                plt.show()\n",
    "\n",
    "                # print(f'Эпоха {epoch}, Шаг {step}, train_loss {np.array(losses).mean()}, valid_loss {np.array(val_loss).mean()}')\n",
    "            "
   ]
  },
  {
   "cell_type": "code",
   "execution_count": 134,
   "metadata": {
    "colab": {
     "base_uri": "https://localhost:8080/"
    },
    "executionInfo": {
     "elapsed": 403,
     "status": "ok",
     "timestamp": 1645979461342,
     "user": {
      "displayName": "Alexey Klimov",
      "photoUrl": "https://lh3.googleusercontent.com/a/default-user=s64",
      "userId": "16102825217955361469"
     },
     "user_tz": -180
    },
    "id": "umgQlrzs_ZoS",
    "outputId": "7c21f335-fbff-4c33-915a-0d81a439b538"
   },
   "outputs": [
    {
     "data": {
      "text/plain": [
       "device(type='cuda', index=0)"
      ]
     },
     "execution_count": 134,
     "metadata": {},
     "output_type": "execute_result"
    }
   ],
   "source": [
    "device = torch.device(\"cuda:0\")\n",
    "device"
   ]
  },
  {
   "cell_type": "code",
   "execution_count": 140,
   "metadata": {
    "colab": {
     "base_uri": "https://localhost:8080/"
    },
    "executionInfo": {
     "elapsed": 244,
     "status": "ok",
     "timestamp": 1645979945113,
     "user": {
      "displayName": "Alexey Klimov",
      "photoUrl": "https://lh3.googleusercontent.com/a/default-user=s64",
      "userId": "16102825217955361469"
     },
     "user_tz": -180
    },
    "id": "j5ifaNF1_Zqa",
    "outputId": "1a7f394e-01d7-4cb9-ac87-214a134cfbc5"
   },
   "outputs": [
    {
     "data": {
      "text/plain": [
       "lstm(\n",
       "  (embedding): Embedding(78757, 300)\n",
       "  (dropout): Dropout(p=0.2, inplace=False)\n",
       "  (lstm): LSTM(300, 128, num_layers=2, dropout=0.2, bidirectional=True)\n",
       "  (label): Linear(in_features=512, out_features=1, bias=True)\n",
       ")"
      ]
     },
     "execution_count": 140,
     "metadata": {},
     "output_type": "execute_result"
    }
   ],
   "source": [
    "model.to(device)"
   ]
  },
  {
   "cell_type": "markdown",
   "metadata": {
    "id": "9iUS-peOBcgr"
   },
   "source": [
    "# Обучение сети"
   ]
  },
  {
   "cell_type": "code",
   "execution_count": 141,
   "metadata": {
    "colab": {
     "base_uri": "https://localhost:8080/",
     "height": 676
    },
    "executionInfo": {
     "elapsed": 565225,
     "status": "ok",
     "timestamp": 1645980567882,
     "user": {
      "displayName": "Alexey Klimov",
      "photoUrl": "https://lh3.googleusercontent.com/a/default-user=s64",
      "userId": "16102825217955361469"
     },
     "user_tz": -180
    },
    "id": "Qn7yLAPq_Zsi",
    "outputId": "c4cda3a0-432a-456e-cb95-0b6e0dc038fb"
   },
   "outputs": [
    {
     "data": {
      "image/png": "[encoded data removed]",
      "text/plain": [
       "<Figure size 720x720 with 4 Axes>"
      ]
     },
     "metadata": {
      "needs_background": "light"
     },
     "output_type": "display_data"
    }
   ],
   "source": [
    "train(3, model, 300, loss, optimizer, train_i, val_i)"
   ]
  },
  {
   "cell_type": "code",
   "execution_count": 142,
   "metadata": {
    "executionInfo": {
     "elapsed": 5130,
     "status": "ok",
     "timestamp": 1645980573003,
     "user": {
      "displayName": "Alexey Klimov",
      "photoUrl": "https://lh3.googleusercontent.com/a/default-user=s64",
      "userId": "16102825217955361469"
     },
     "user_tz": -180
    },
    "id": "XkZvj290DUf7"
   },
   "outputs": [],
   "source": [
    "model.eval()\n",
    "\n",
    "real = []\n",
    "preds = []\n",
    "\n",
    "for batch in iter(val_i):\n",
    "    x = batch.text.cuda()\n",
    "    # y = batch.points.type(torch.Tensor).cuda()\n",
    "    \n",
    "    real += batch.points.data.numpy().tolist()\n",
    "    preds += torch.sigmoid(model.forward(x).view(-1)).cpu().data.numpy().tolist()"
   ]
  },
  {
   "cell_type": "markdown",
   "metadata": {
    "id": "7gNYKrnrDvvh"
   },
   "source": [
    "# Результаты"
   ]
  },
  {
   "cell_type": "code",
   "execution_count": 144,
   "metadata": {
    "colab": {
     "base_uri": "https://localhost:8080/"
    },
    "executionInfo": {
     "elapsed": 277,
     "status": "ok",
     "timestamp": 1645980586320,
     "user": {
      "displayName": "Alexey Klimov",
      "photoUrl": "https://lh3.googleusercontent.com/a/default-user=s64",
      "userId": "16102825217955361469"
     },
     "user_tz": -180
    },
    "id": "ypzWCSdWDxoA",
    "outputId": "4263e1cd-5141-440e-c3d9-5d023ea9765e"
   },
   "outputs": [
    {
     "name": "stdout",
     "output_type": "stream",
     "text": [
      "              precision    recall  f1-score   support\n",
      "\n",
      "           0       0.76      0.85      0.80     26653\n",
      "           1       0.75      0.63      0.69     19728\n",
      "\n",
      "    accuracy                           0.76     46381\n",
      "   macro avg       0.76      0.74      0.74     46381\n",
      "weighted avg       0.76      0.76      0.75     46381\n",
      "\n"
     ]
    }
   ],
   "source": [
    "print(classification_report(real, np.round(np.array(preds))))"
   ]
  },
  {
   "cell_type": "code",
   "execution_count": 147,
   "metadata": {
    "executionInfo": {
     "elapsed": 278,
     "status": "ok",
     "timestamp": 1645981139228,
     "user": {
      "displayName": "Alexey Klimov",
      "photoUrl": "https://lh3.googleusercontent.com/a/default-user=s64",
      "userId": "16102825217955361469"
     },
     "user_tz": -180
    },
    "id": "H-i7Qed3D2li"
   },
   "outputs": [],
   "source": [
    "# в целом lstm + w2v для данной задачи показал результат ненамного лучше, чем наивный Байес (0.76 vs 0.74)\n",
    "# что можно доделать в будущем:\n",
    "# -обучить больше эпох\n",
    "# -применить трансформер"
   ]
  },
  {
   "cell_type": "code",
   "execution_count": null,
   "metadata": {
    "id": "jn736BzmHvz3"
   },
   "outputs": [],
   "source": []
  }
 ],
 "metadata": {
  "accelerator": "GPU",
  "colab": {
   "authorship_tag": "ABX9TyPSClDveCY/c30i4NI6m2Va",
   "collapsed_sections": [],
   "name": "Климов Алексей Витальевич ДЗ3.ipynb",
   "provenance": [],
   "toc_visible": true
  },
  "kernelspec": {
   "display_name": "Python 3.9.6 64-bit",
   "language": "python",
   "name": "python3"
  },
  "language_info": {
   "codemirror_mode": {
    "name": "ipython",
    "version": 3
   },
   "file_extension": ".py",
   "mimetype": "text/x-python",
   "name": "python",
   "nbconvert_exporter": "python",
   "pygments_lexer": "ipython3",
   "version": "3.9.6 (tags/v3.9.6:db3ff76, Jun 28 2021, 15:26:21) [MSC v.1929 64 bit (AMD64)]"
  },
  "vscode": {
   "interpreter": {
    "hash": "ed440b3e73603ead034bbc1aefc87f16e1dad4a3e4cb3fbfb79233b646712d77"
   }
  }
 },
 "nbformat": 4,
 "nbformat_minor": 1
}
