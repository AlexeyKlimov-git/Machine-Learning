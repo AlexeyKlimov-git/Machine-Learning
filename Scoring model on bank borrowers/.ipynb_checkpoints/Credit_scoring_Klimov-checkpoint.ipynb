{
 "cells": [
  {
   "cell_type": "markdown",
   "id": "6f3f59f2",
   "metadata": {},
   "source": [
    "# Imports"
   ]
  },
  {
   "cell_type": "code",
   "execution_count": 489,
   "id": "3792fec9",
   "metadata": {},
   "outputs": [],
   "source": [
    "import numpy as np\n",
    "import pandas as pd\n",
    "from matplotlib import pyplot as plt\n",
    "plt.style.use('ggplot')"
   ]
  },
  {
   "cell_type": "code",
   "execution_count": 490,
   "id": "253210eb",
   "metadata": {},
   "outputs": [],
   "source": [
    "import warnings\n",
    "warnings.filterwarnings(\"ignore\")"
   ]
  },
  {
   "cell_type": "markdown",
   "id": "742e5933",
   "metadata": {},
   "source": [
    "# Скачиваем данные"
   ]
  },
  {
   "cell_type": "code",
   "execution_count": 491,
   "id": "3811e6ad",
   "metadata": {},
   "outputs": [],
   "source": [
    "x_train = pd.read_csv('./X_train.csv')\n",
    "y_train = pd.read_csv('./Y_train.csv')\n",
    "y = (y_train.target == 1) * 1\n",
    "#test = pd.read_csv('./X_test.csv')"
   ]
  },
  {
   "cell_type": "code",
   "execution_count": 492,
   "id": "59edc3eb",
   "metadata": {},
   "outputs": [
    {
     "data": {
      "text/html": [
       "<div>\n",
       "<style scoped>\n",
       "    .dataframe tbody tr th:only-of-type {\n",
       "        vertical-align: middle;\n",
       "    }\n",
       "\n",
       "    .dataframe tbody tr th {\n",
       "        vertical-align: top;\n",
       "    }\n",
       "\n",
       "    .dataframe thead th {\n",
       "        text-align: right;\n",
       "    }\n",
       "</style>\n",
       "<table border=\"1\" class=\"dataframe\">\n",
       "  <thead>\n",
       "    <tr style=\"text-align: right;\">\n",
       "      <th></th>\n",
       "      <th>credit_card_utilization</th>\n",
       "      <th>age</th>\n",
       "      <th>overdue_30_59_days</th>\n",
       "      <th>debt_to_income</th>\n",
       "      <th>monthly_income</th>\n",
       "      <th>credits_loans</th>\n",
       "      <th>overdue__more_than_90_days</th>\n",
       "      <th>mortgage_loans</th>\n",
       "      <th>overdue_60_89_days</th>\n",
       "      <th>family_members</th>\n",
       "    </tr>\n",
       "  </thead>\n",
       "  <tbody>\n",
       "    <tr>\n",
       "      <th>0</th>\n",
       "      <td>0.000000</td>\n",
       "      <td>56</td>\n",
       "      <td>0</td>\n",
       "      <td>0.504328</td>\n",
       "      <td>6823.894458</td>\n",
       "      <td>9</td>\n",
       "      <td>0</td>\n",
       "      <td>1</td>\n",
       "      <td>0</td>\n",
       "      <td>5.0</td>\n",
       "    </tr>\n",
       "    <tr>\n",
       "      <th>1</th>\n",
       "      <td>0.170659</td>\n",
       "      <td>45</td>\n",
       "      <td>1</td>\n",
       "      <td>2.405860</td>\n",
       "      <td>356.580765</td>\n",
       "      <td>5</td>\n",
       "      <td>0</td>\n",
       "      <td>0</td>\n",
       "      <td>0</td>\n",
       "      <td>0.0</td>\n",
       "    </tr>\n",
       "    <tr>\n",
       "      <th>2</th>\n",
       "      <td>0.342176</td>\n",
       "      <td>75</td>\n",
       "      <td>1</td>\n",
       "      <td>0.445066</td>\n",
       "      <td>20349.895825</td>\n",
       "      <td>9</td>\n",
       "      <td>0</td>\n",
       "      <td>3</td>\n",
       "      <td>0</td>\n",
       "      <td>0.0</td>\n",
       "    </tr>\n",
       "    <tr>\n",
       "      <th>3</th>\n",
       "      <td>0.046219</td>\n",
       "      <td>50</td>\n",
       "      <td>0</td>\n",
       "      <td>0.814508</td>\n",
       "      <td>2894.368968</td>\n",
       "      <td>12</td>\n",
       "      <td>0</td>\n",
       "      <td>1</td>\n",
       "      <td>0</td>\n",
       "      <td>3.0</td>\n",
       "    </tr>\n",
       "    <tr>\n",
       "      <th>4</th>\n",
       "      <td>0.679556</td>\n",
       "      <td>58</td>\n",
       "      <td>0</td>\n",
       "      <td>0.390311</td>\n",
       "      <td>24833.227614</td>\n",
       "      <td>15</td>\n",
       "      <td>0</td>\n",
       "      <td>4</td>\n",
       "      <td>0</td>\n",
       "      <td>2.0</td>\n",
       "    </tr>\n",
       "  </tbody>\n",
       "</table>\n",
       "</div>"
      ],
      "text/plain": [
       "   credit_card_utilization  age  overdue_30_59_days  debt_to_income  \\\n",
       "0                 0.000000   56                   0        0.504328   \n",
       "1                 0.170659   45                   1        2.405860   \n",
       "2                 0.342176   75                   1        0.445066   \n",
       "3                 0.046219   50                   0        0.814508   \n",
       "4                 0.679556   58                   0        0.390311   \n",
       "\n",
       "   monthly_income  credits_loans  overdue__more_than_90_days  mortgage_loans  \\\n",
       "0     6823.894458              9                           0               1   \n",
       "1      356.580765              5                           0               0   \n",
       "2    20349.895825              9                           0               3   \n",
       "3     2894.368968             12                           0               1   \n",
       "4    24833.227614             15                           0               4   \n",
       "\n",
       "   overdue_60_89_days  family_members  \n",
       "0                   0             5.0  \n",
       "1                   0             0.0  \n",
       "2                   0             0.0  \n",
       "3                   0             3.0  \n",
       "4                   0             2.0  "
      ]
     },
     "execution_count": 492,
     "metadata": {},
     "output_type": "execute_result"
    }
   ],
   "source": [
    "x_train.head()"
   ]
  },
  {
   "cell_type": "code",
   "execution_count": 493,
   "id": "f5f2b94e",
   "metadata": {},
   "outputs": [
    {
     "data": {
      "text/plain": [
       "(105109, 10)"
      ]
     },
     "execution_count": 493,
     "metadata": {},
     "output_type": "execute_result"
    }
   ],
   "source": [
    "x_train.shape"
   ]
  },
  {
   "cell_type": "code",
   "execution_count": 494,
   "id": "64fefd69",
   "metadata": {},
   "outputs": [
    {
     "data": {
      "text/plain": [
       "0    0.933108\n",
       "1    0.066892\n",
       "Name: target, dtype: float64"
      ]
     },
     "execution_count": 494,
     "metadata": {},
     "output_type": "execute_result"
    }
   ],
   "source": [
    "y.value_counts(normalize=True)"
   ]
  },
  {
   "cell_type": "code",
   "execution_count": 495,
   "id": "4f46adab",
   "metadata": {},
   "outputs": [
    {
     "data": {
      "text/plain": [
       "0    0\n",
       "1    0\n",
       "2    0\n",
       "3    0\n",
       "4    0\n",
       "Name: target, dtype: int32"
      ]
     },
     "execution_count": 495,
     "metadata": {},
     "output_type": "execute_result"
    }
   ],
   "source": [
    "y[:5]"
   ]
  },
  {
   "cell_type": "markdown",
   "id": "e99c6b29",
   "metadata": {},
   "source": [
    "# Краткий анализ имеющихся данных"
   ]
  },
  {
   "cell_type": "markdown",
   "id": "db14580f",
   "metadata": {},
   "source": [
    "###### Проверка типов данных"
   ]
  },
  {
   "cell_type": "code",
   "execution_count": 496,
   "id": "a5453952",
   "metadata": {},
   "outputs": [
    {
     "data": {
      "text/plain": [
       "credit_card_utilization       float64\n",
       "age                             int64\n",
       "overdue_30_59_days              int64\n",
       "debt_to_income                float64\n",
       "monthly_income                float64\n",
       "credits_loans                   int64\n",
       "overdue__more_than_90_days      int64\n",
       "mortgage_loans                  int64\n",
       "overdue_60_89_days              int64\n",
       "family_members                float64\n",
       "dtype: object"
      ]
     },
     "execution_count": 496,
     "metadata": {},
     "output_type": "execute_result"
    }
   ],
   "source": [
    "x_train.dtypes"
   ]
  },
  {
   "cell_type": "markdown",
   "id": "04885341",
   "metadata": {},
   "source": [
    "###### Проверка пропусков"
   ]
  },
  {
   "cell_type": "code",
   "execution_count": 497,
   "id": "244a6458",
   "metadata": {},
   "outputs": [
    {
     "data": {
      "text/plain": [
       "credit_card_utilization           0\n",
       "age                               0\n",
       "overdue_30_59_days                0\n",
       "debt_to_income                    0\n",
       "monthly_income                20993\n",
       "credits_loans                     0\n",
       "overdue__more_than_90_days        0\n",
       "mortgage_loans                    0\n",
       "overdue_60_89_days                0\n",
       "family_members                 2805\n",
       "dtype: int64"
      ]
     },
     "execution_count": 497,
     "metadata": {},
     "output_type": "execute_result"
    }
   ],
   "source": [
    "pd.isnull(x_train).sum()"
   ]
  },
  {
   "cell_type": "markdown",
   "id": "260a8a4a",
   "metadata": {},
   "source": [
    "###### Проверка количества уникальных"
   ]
  },
  {
   "cell_type": "code",
   "execution_count": 498,
   "id": "cda599ed",
   "metadata": {},
   "outputs": [
    {
     "data": {
      "text/plain": [
       "credit_card_utilization        97475\n",
       "age                               86\n",
       "overdue_30_59_days                15\n",
       "debt_to_income                102217\n",
       "monthly_income                 82956\n",
       "credits_loans                     59\n",
       "overdue__more_than_90_days        16\n",
       "mortgage_loans                    27\n",
       "overdue_60_89_days                13\n",
       "family_members                    13\n",
       "dtype: int64"
      ]
     },
     "execution_count": 498,
     "metadata": {},
     "output_type": "execute_result"
    }
   ],
   "source": [
    "x_train.nunique()"
   ]
  },
  {
   "cell_type": "markdown",
   "id": "2625eecc",
   "metadata": {},
   "source": [
    "###### Баланс классов"
   ]
  },
  {
   "cell_type": "code",
   "execution_count": 499,
   "id": "804a97f0",
   "metadata": {},
   "outputs": [
    {
     "data": {
      "text/plain": [
       "0     0.839709\n",
       "1     0.107155\n",
       "2     0.030759\n",
       "3     0.011626\n",
       "4     0.004995\n",
       "5     0.002293\n",
       "98    0.001798\n",
       "6     0.000970\n",
       "7     0.000352\n",
       "8     0.000162\n",
       "9     0.000076\n",
       "96    0.000048\n",
       "10    0.000038\n",
       "12    0.000010\n",
       "11    0.000010\n",
       "Name: overdue_30_59_days, dtype: float64"
      ]
     },
     "execution_count": 499,
     "metadata": {},
     "output_type": "execute_result"
    }
   ],
   "source": [
    "x_train['overdue_30_59_days'].value_counts(normalize=True)"
   ]
  },
  {
   "cell_type": "markdown",
   "id": "6127107a",
   "metadata": {},
   "source": [
    "# Предобработка данных"
   ]
  },
  {
   "cell_type": "markdown",
   "id": "19ea4c99",
   "metadata": {},
   "source": [
    "###### Заполнение пропусков\n",
    "Заполняем пропущенные данные в месячном доходе и количестве членов семьи медианными значениями, так как эта метрика выглядит наиболее логичной"
   ]
  },
  {
   "cell_type": "code",
   "execution_count": 500,
   "id": "26fe79bf",
   "metadata": {},
   "outputs": [
    {
     "name": "stdout",
     "output_type": "stream",
     "text": [
      "Кол-во пропущенных в monthly_income: 20993\n"
     ]
    },
    {
     "data": {
      "text/html": [
       "<div>\n",
       "<style scoped>\n",
       "    .dataframe tbody tr th:only-of-type {\n",
       "        vertical-align: middle;\n",
       "    }\n",
       "\n",
       "    .dataframe tbody tr th {\n",
       "        vertical-align: top;\n",
       "    }\n",
       "\n",
       "    .dataframe thead th {\n",
       "        text-align: right;\n",
       "    }\n",
       "</style>\n",
       "<table border=\"1\" class=\"dataframe\">\n",
       "  <thead>\n",
       "    <tr style=\"text-align: right;\">\n",
       "      <th></th>\n",
       "      <th>credit_card_utilization</th>\n",
       "      <th>age</th>\n",
       "      <th>overdue_30_59_days</th>\n",
       "      <th>debt_to_income</th>\n",
       "      <th>monthly_income</th>\n",
       "      <th>credits_loans</th>\n",
       "      <th>overdue__more_than_90_days</th>\n",
       "      <th>mortgage_loans</th>\n",
       "      <th>overdue_60_89_days</th>\n",
       "      <th>family_members</th>\n",
       "    </tr>\n",
       "  </thead>\n",
       "  <tbody>\n",
       "    <tr>\n",
       "      <th>20</th>\n",
       "      <td>1.156862</td>\n",
       "      <td>69</td>\n",
       "      <td>0</td>\n",
       "      <td>34.666092</td>\n",
       "      <td>NaN</td>\n",
       "      <td>0</td>\n",
       "      <td>0</td>\n",
       "      <td>0</td>\n",
       "      <td>0</td>\n",
       "      <td>0.0</td>\n",
       "    </tr>\n",
       "    <tr>\n",
       "      <th>23</th>\n",
       "      <td>0.176205</td>\n",
       "      <td>93</td>\n",
       "      <td>0</td>\n",
       "      <td>297.962783</td>\n",
       "      <td>NaN</td>\n",
       "      <td>3</td>\n",
       "      <td>0</td>\n",
       "      <td>0</td>\n",
       "      <td>0</td>\n",
       "      <td>NaN</td>\n",
       "    </tr>\n",
       "    <tr>\n",
       "      <th>36</th>\n",
       "      <td>0.280279</td>\n",
       "      <td>49</td>\n",
       "      <td>0</td>\n",
       "      <td>2226.820771</td>\n",
       "      <td>NaN</td>\n",
       "      <td>6</td>\n",
       "      <td>0</td>\n",
       "      <td>2</td>\n",
       "      <td>0</td>\n",
       "      <td>2.0</td>\n",
       "    </tr>\n",
       "    <tr>\n",
       "      <th>39</th>\n",
       "      <td>0.148479</td>\n",
       "      <td>47</td>\n",
       "      <td>0</td>\n",
       "      <td>5322.022996</td>\n",
       "      <td>NaN</td>\n",
       "      <td>15</td>\n",
       "      <td>0</td>\n",
       "      <td>3</td>\n",
       "      <td>0</td>\n",
       "      <td>2.0</td>\n",
       "    </tr>\n",
       "    <tr>\n",
       "      <th>40</th>\n",
       "      <td>0.027631</td>\n",
       "      <td>55</td>\n",
       "      <td>0</td>\n",
       "      <td>7393.317898</td>\n",
       "      <td>NaN</td>\n",
       "      <td>12</td>\n",
       "      <td>0</td>\n",
       "      <td>2</td>\n",
       "      <td>0</td>\n",
       "      <td>0.0</td>\n",
       "    </tr>\n",
       "  </tbody>\n",
       "</table>\n",
       "</div>"
      ],
      "text/plain": [
       "    credit_card_utilization  age  overdue_30_59_days  debt_to_income  \\\n",
       "20                 1.156862   69                   0       34.666092   \n",
       "23                 0.176205   93                   0      297.962783   \n",
       "36                 0.280279   49                   0     2226.820771   \n",
       "39                 0.148479   47                   0     5322.022996   \n",
       "40                 0.027631   55                   0     7393.317898   \n",
       "\n",
       "    monthly_income  credits_loans  overdue__more_than_90_days  mortgage_loans  \\\n",
       "20             NaN              0                           0               0   \n",
       "23             NaN              3                           0               0   \n",
       "36             NaN              6                           0               2   \n",
       "39             NaN             15                           0               3   \n",
       "40             NaN             12                           0               2   \n",
       "\n",
       "    overdue_60_89_days  family_members  \n",
       "20                   0             0.0  \n",
       "23                   0             NaN  \n",
       "36                   0             2.0  \n",
       "39                   0             2.0  \n",
       "40                   0             0.0  "
      ]
     },
     "execution_count": 500,
     "metadata": {},
     "output_type": "execute_result"
    }
   ],
   "source": [
    "print ('Кол-во пропущенных в monthly_income:', sum(x_train['monthly_income'].isnull()))\n",
    "x_train[x_train['monthly_income'].isnull()].head(5)"
   ]
  },
  {
   "cell_type": "code",
   "execution_count": 501,
   "id": "5e535c28",
   "metadata": {},
   "outputs": [
    {
     "data": {
      "text/plain": [
       "5361.778459884576"
      ]
     },
     "execution_count": 501,
     "metadata": {},
     "output_type": "execute_result"
    }
   ],
   "source": [
    "x_train['monthly_income'].median()"
   ]
  },
  {
   "cell_type": "code",
   "execution_count": 502,
   "id": "192d8a98",
   "metadata": {},
   "outputs": [
    {
     "data": {
      "text/plain": [
       "20     5361.778460\n",
       "21     3563.759868\n",
       "22     9500.518840\n",
       "23     5361.778460\n",
       "24     4440.500414\n",
       "25    21381.951686\n",
       "26     2381.974505\n",
       "27     2821.249473\n",
       "28     5578.877263\n",
       "29    10058.364487\n",
       "Name: monthly_income, dtype: float64"
      ]
     },
     "execution_count": 502,
     "metadata": {},
     "output_type": "execute_result"
    }
   ],
   "source": [
    "x_train['monthly_income']=x_train['monthly_income'].fillna(x_train['monthly_income'].median())\n",
    "\n",
    "x_train['monthly_income'][20:30]"
   ]
  },
  {
   "cell_type": "code",
   "execution_count": null,
   "id": "b4e3a90c",
   "metadata": {},
   "outputs": [],
   "source": []
  },
  {
   "cell_type": "code",
   "execution_count": 503,
   "id": "2a9d6386",
   "metadata": {},
   "outputs": [
    {
     "name": "stdout",
     "output_type": "stream",
     "text": [
      "Кол-во пропущенных в family_members: 2805\n"
     ]
    },
    {
     "data": {
      "text/html": [
       "<div>\n",
       "<style scoped>\n",
       "    .dataframe tbody tr th:only-of-type {\n",
       "        vertical-align: middle;\n",
       "    }\n",
       "\n",
       "    .dataframe tbody tr th {\n",
       "        vertical-align: top;\n",
       "    }\n",
       "\n",
       "    .dataframe thead th {\n",
       "        text-align: right;\n",
       "    }\n",
       "</style>\n",
       "<table border=\"1\" class=\"dataframe\">\n",
       "  <thead>\n",
       "    <tr style=\"text-align: right;\">\n",
       "      <th></th>\n",
       "      <th>credit_card_utilization</th>\n",
       "      <th>age</th>\n",
       "      <th>overdue_30_59_days</th>\n",
       "      <th>debt_to_income</th>\n",
       "      <th>monthly_income</th>\n",
       "      <th>credits_loans</th>\n",
       "      <th>overdue__more_than_90_days</th>\n",
       "      <th>mortgage_loans</th>\n",
       "      <th>overdue_60_89_days</th>\n",
       "      <th>family_members</th>\n",
       "    </tr>\n",
       "  </thead>\n",
       "  <tbody>\n",
       "    <tr>\n",
       "      <th>23</th>\n",
       "      <td>0.176205</td>\n",
       "      <td>93</td>\n",
       "      <td>0</td>\n",
       "      <td>297.962783</td>\n",
       "      <td>5361.77846</td>\n",
       "      <td>3</td>\n",
       "      <td>0</td>\n",
       "      <td>0</td>\n",
       "      <td>0</td>\n",
       "      <td>NaN</td>\n",
       "    </tr>\n",
       "    <tr>\n",
       "      <th>43</th>\n",
       "      <td>0.049335</td>\n",
       "      <td>77</td>\n",
       "      <td>0</td>\n",
       "      <td>695.154036</td>\n",
       "      <td>5361.77846</td>\n",
       "      <td>8</td>\n",
       "      <td>0</td>\n",
       "      <td>1</td>\n",
       "      <td>0</td>\n",
       "      <td>NaN</td>\n",
       "    </tr>\n",
       "    <tr>\n",
       "      <th>58</th>\n",
       "      <td>1.170441</td>\n",
       "      <td>33</td>\n",
       "      <td>0</td>\n",
       "      <td>690.020506</td>\n",
       "      <td>5361.77846</td>\n",
       "      <td>4</td>\n",
       "      <td>0</td>\n",
       "      <td>0</td>\n",
       "      <td>0</td>\n",
       "      <td>NaN</td>\n",
       "    </tr>\n",
       "    <tr>\n",
       "      <th>135</th>\n",
       "      <td>0.000000</td>\n",
       "      <td>79</td>\n",
       "      <td>0</td>\n",
       "      <td>0.000000</td>\n",
       "      <td>5361.77846</td>\n",
       "      <td>2</td>\n",
       "      <td>0</td>\n",
       "      <td>0</td>\n",
       "      <td>0</td>\n",
       "      <td>NaN</td>\n",
       "    </tr>\n",
       "    <tr>\n",
       "      <th>164</th>\n",
       "      <td>1.029744</td>\n",
       "      <td>36</td>\n",
       "      <td>2</td>\n",
       "      <td>391.364373</td>\n",
       "      <td>5361.77846</td>\n",
       "      <td>3</td>\n",
       "      <td>3</td>\n",
       "      <td>0</td>\n",
       "      <td>0</td>\n",
       "      <td>NaN</td>\n",
       "    </tr>\n",
       "  </tbody>\n",
       "</table>\n",
       "</div>"
      ],
      "text/plain": [
       "     credit_card_utilization  age  overdue_30_59_days  debt_to_income  \\\n",
       "23                  0.176205   93                   0      297.962783   \n",
       "43                  0.049335   77                   0      695.154036   \n",
       "58                  1.170441   33                   0      690.020506   \n",
       "135                 0.000000   79                   0        0.000000   \n",
       "164                 1.029744   36                   2      391.364373   \n",
       "\n",
       "     monthly_income  credits_loans  overdue__more_than_90_days  \\\n",
       "23       5361.77846              3                           0   \n",
       "43       5361.77846              8                           0   \n",
       "58       5361.77846              4                           0   \n",
       "135      5361.77846              2                           0   \n",
       "164      5361.77846              3                           3   \n",
       "\n",
       "     mortgage_loans  overdue_60_89_days  family_members  \n",
       "23                0                   0             NaN  \n",
       "43                1                   0             NaN  \n",
       "58                0                   0             NaN  \n",
       "135               0                   0             NaN  \n",
       "164               0                   0             NaN  "
      ]
     },
     "execution_count": 503,
     "metadata": {},
     "output_type": "execute_result"
    }
   ],
   "source": [
    "print ('Кол-во пропущенных в family_members:', sum(x_train['family_members'].isnull()))\n",
    "x_train[x_train['family_members'].isnull()].head(5)"
   ]
  },
  {
   "cell_type": "code",
   "execution_count": 504,
   "id": "4e50270c",
   "metadata": {},
   "outputs": [
    {
     "data": {
      "text/plain": [
       "0.0"
      ]
     },
     "execution_count": 504,
     "metadata": {},
     "output_type": "execute_result"
    }
   ],
   "source": [
    "x_train['family_members'].median()"
   ]
  },
  {
   "cell_type": "code",
   "execution_count": 505,
   "id": "61ce702f",
   "metadata": {},
   "outputs": [],
   "source": [
    "x_train['family_members'] = x_train['family_members'].fillna(x_train['family_members'].median())"
   ]
  },
  {
   "cell_type": "code",
   "execution_count": 506,
   "id": "80b2d463",
   "metadata": {},
   "outputs": [
    {
     "data": {
      "text/plain": [
       "20    0.0\n",
       "21    0.0\n",
       "22    0.0\n",
       "23    0.0\n",
       "24    0.0\n",
       "25    3.0\n",
       "26    0.0\n",
       "27    1.0\n",
       "28    1.0\n",
       "29    1.0\n",
       "Name: family_members, dtype: float64"
      ]
     },
     "execution_count": 506,
     "metadata": {},
     "output_type": "execute_result"
    }
   ],
   "source": [
    "x_train['family_members'][20:30]"
   ]
  },
  {
   "cell_type": "code",
   "execution_count": null,
   "id": "8f4f64b0",
   "metadata": {},
   "outputs": [],
   "source": []
  },
  {
   "cell_type": "code",
   "execution_count": 507,
   "id": "60a4b608",
   "metadata": {},
   "outputs": [
    {
     "data": {
      "text/plain": [
       "credit_card_utilization       0\n",
       "age                           0\n",
       "overdue_30_59_days            0\n",
       "debt_to_income                0\n",
       "monthly_income                0\n",
       "credits_loans                 0\n",
       "overdue__more_than_90_days    0\n",
       "mortgage_loans                0\n",
       "overdue_60_89_days            0\n",
       "family_members                0\n",
       "dtype: int64"
      ]
     },
     "execution_count": 507,
     "metadata": {},
     "output_type": "execute_result"
    }
   ],
   "source": [
    "pd.isnull(x_train).sum()"
   ]
  },
  {
   "cell_type": "markdown",
   "id": "2b81df1e",
   "metadata": {},
   "source": [
    "# Кодирование категориальных признаков"
   ]
  },
  {
   "cell_type": "code",
   "execution_count": 508,
   "id": "31aaa258",
   "metadata": {},
   "outputs": [
    {
     "data": {
      "text/html": [
       "<div>\n",
       "<style scoped>\n",
       "    .dataframe tbody tr th:only-of-type {\n",
       "        vertical-align: middle;\n",
       "    }\n",
       "\n",
       "    .dataframe tbody tr th {\n",
       "        vertical-align: top;\n",
       "    }\n",
       "\n",
       "    .dataframe thead th {\n",
       "        text-align: right;\n",
       "    }\n",
       "</style>\n",
       "<table border=\"1\" class=\"dataframe\">\n",
       "  <thead>\n",
       "    <tr style=\"text-align: right;\">\n",
       "      <th></th>\n",
       "      <th>credit_card_utilization</th>\n",
       "      <th>age</th>\n",
       "      <th>overdue_30_59_days</th>\n",
       "      <th>debt_to_income</th>\n",
       "      <th>monthly_income</th>\n",
       "      <th>credits_loans</th>\n",
       "      <th>overdue__more_than_90_days</th>\n",
       "      <th>mortgage_loans</th>\n",
       "      <th>overdue_60_89_days</th>\n",
       "      <th>family_members</th>\n",
       "    </tr>\n",
       "  </thead>\n",
       "  <tbody>\n",
       "    <tr>\n",
       "      <th>0</th>\n",
       "      <td>0.000000</td>\n",
       "      <td>56</td>\n",
       "      <td>0</td>\n",
       "      <td>0.504328</td>\n",
       "      <td>6823.894458</td>\n",
       "      <td>9</td>\n",
       "      <td>0</td>\n",
       "      <td>1</td>\n",
       "      <td>0</td>\n",
       "      <td>5.0</td>\n",
       "    </tr>\n",
       "    <tr>\n",
       "      <th>1</th>\n",
       "      <td>0.170659</td>\n",
       "      <td>45</td>\n",
       "      <td>1</td>\n",
       "      <td>2.405860</td>\n",
       "      <td>356.580765</td>\n",
       "      <td>5</td>\n",
       "      <td>0</td>\n",
       "      <td>0</td>\n",
       "      <td>0</td>\n",
       "      <td>0.0</td>\n",
       "    </tr>\n",
       "    <tr>\n",
       "      <th>2</th>\n",
       "      <td>0.342176</td>\n",
       "      <td>75</td>\n",
       "      <td>1</td>\n",
       "      <td>0.445066</td>\n",
       "      <td>20349.895825</td>\n",
       "      <td>9</td>\n",
       "      <td>0</td>\n",
       "      <td>3</td>\n",
       "      <td>0</td>\n",
       "      <td>0.0</td>\n",
       "    </tr>\n",
       "    <tr>\n",
       "      <th>3</th>\n",
       "      <td>0.046219</td>\n",
       "      <td>50</td>\n",
       "      <td>0</td>\n",
       "      <td>0.814508</td>\n",
       "      <td>2894.368968</td>\n",
       "      <td>12</td>\n",
       "      <td>0</td>\n",
       "      <td>1</td>\n",
       "      <td>0</td>\n",
       "      <td>3.0</td>\n",
       "    </tr>\n",
       "    <tr>\n",
       "      <th>4</th>\n",
       "      <td>0.679556</td>\n",
       "      <td>58</td>\n",
       "      <td>0</td>\n",
       "      <td>0.390311</td>\n",
       "      <td>24833.227614</td>\n",
       "      <td>15</td>\n",
       "      <td>0</td>\n",
       "      <td>4</td>\n",
       "      <td>0</td>\n",
       "      <td>2.0</td>\n",
       "    </tr>\n",
       "  </tbody>\n",
       "</table>\n",
       "</div>"
      ],
      "text/plain": [
       "   credit_card_utilization  age  overdue_30_59_days  debt_to_income  \\\n",
       "0                 0.000000   56                   0        0.504328   \n",
       "1                 0.170659   45                   1        2.405860   \n",
       "2                 0.342176   75                   1        0.445066   \n",
       "3                 0.046219   50                   0        0.814508   \n",
       "4                 0.679556   58                   0        0.390311   \n",
       "\n",
       "   monthly_income  credits_loans  overdue__more_than_90_days  mortgage_loans  \\\n",
       "0     6823.894458              9                           0               1   \n",
       "1      356.580765              5                           0               0   \n",
       "2    20349.895825              9                           0               3   \n",
       "3     2894.368968             12                           0               1   \n",
       "4    24833.227614             15                           0               4   \n",
       "\n",
       "   overdue_60_89_days  family_members  \n",
       "0                   0             5.0  \n",
       "1                   0             0.0  \n",
       "2                   0             0.0  \n",
       "3                   0             3.0  \n",
       "4                   0             2.0  "
      ]
     },
     "execution_count": 508,
     "metadata": {},
     "output_type": "execute_result"
    }
   ],
   "source": [
    "x_train.head()"
   ]
  },
  {
   "cell_type": "code",
   "execution_count": 509,
   "id": "98f493cc",
   "metadata": {},
   "outputs": [],
   "source": [
    "num = ['credit_card_utilization', 'age', 'debt_to_income', 'monthly_income','credits_loans','mortgage_loans', 'family_members' ]\n",
    "cat = ['overdue_30_59_days', 'overdue__more_than_90_days', 'overdue_60_89_days']\n",
    "target = 'target'"
   ]
  },
  {
   "cell_type": "code",
   "execution_count": 510,
   "id": "fbacb46b",
   "metadata": {},
   "outputs": [],
   "source": [
    "from category_encoders import OneHotEncoder\n",
    "ohe = OneHotEncoder(cols=cat)"
   ]
  },
  {
   "cell_type": "code",
   "execution_count": 511,
   "id": "31e948db",
   "metadata": {},
   "outputs": [
    {
     "data": {
      "text/html": [
       "<div>\n",
       "<style scoped>\n",
       "    .dataframe tbody tr th:only-of-type {\n",
       "        vertical-align: middle;\n",
       "    }\n",
       "\n",
       "    .dataframe tbody tr th {\n",
       "        vertical-align: top;\n",
       "    }\n",
       "\n",
       "    .dataframe thead th {\n",
       "        text-align: right;\n",
       "    }\n",
       "</style>\n",
       "<table border=\"1\" class=\"dataframe\">\n",
       "  <thead>\n",
       "    <tr style=\"text-align: right;\">\n",
       "      <th></th>\n",
       "      <th>credit_card_utilization</th>\n",
       "      <th>age</th>\n",
       "      <th>overdue_30_59_days_1</th>\n",
       "      <th>overdue_30_59_days_2</th>\n",
       "      <th>overdue_30_59_days_3</th>\n",
       "      <th>overdue_30_59_days_4</th>\n",
       "      <th>overdue_30_59_days_5</th>\n",
       "      <th>overdue_30_59_days_6</th>\n",
       "      <th>overdue_30_59_days_7</th>\n",
       "      <th>overdue_30_59_days_8</th>\n",
       "      <th>...</th>\n",
       "      <th>overdue_60_89_days_5</th>\n",
       "      <th>overdue_60_89_days_6</th>\n",
       "      <th>overdue_60_89_days_7</th>\n",
       "      <th>overdue_60_89_days_8</th>\n",
       "      <th>overdue_60_89_days_9</th>\n",
       "      <th>overdue_60_89_days_10</th>\n",
       "      <th>overdue_60_89_days_11</th>\n",
       "      <th>overdue_60_89_days_12</th>\n",
       "      <th>overdue_60_89_days_13</th>\n",
       "      <th>family_members</th>\n",
       "    </tr>\n",
       "  </thead>\n",
       "  <tbody>\n",
       "    <tr>\n",
       "      <th>0</th>\n",
       "      <td>0.000000</td>\n",
       "      <td>56</td>\n",
       "      <td>1</td>\n",
       "      <td>0</td>\n",
       "      <td>0</td>\n",
       "      <td>0</td>\n",
       "      <td>0</td>\n",
       "      <td>0</td>\n",
       "      <td>0</td>\n",
       "      <td>0</td>\n",
       "      <td>...</td>\n",
       "      <td>0</td>\n",
       "      <td>0</td>\n",
       "      <td>0</td>\n",
       "      <td>0</td>\n",
       "      <td>0</td>\n",
       "      <td>0</td>\n",
       "      <td>0</td>\n",
       "      <td>0</td>\n",
       "      <td>0</td>\n",
       "      <td>5.0</td>\n",
       "    </tr>\n",
       "    <tr>\n",
       "      <th>1</th>\n",
       "      <td>0.170659</td>\n",
       "      <td>45</td>\n",
       "      <td>0</td>\n",
       "      <td>1</td>\n",
       "      <td>0</td>\n",
       "      <td>0</td>\n",
       "      <td>0</td>\n",
       "      <td>0</td>\n",
       "      <td>0</td>\n",
       "      <td>0</td>\n",
       "      <td>...</td>\n",
       "      <td>0</td>\n",
       "      <td>0</td>\n",
       "      <td>0</td>\n",
       "      <td>0</td>\n",
       "      <td>0</td>\n",
       "      <td>0</td>\n",
       "      <td>0</td>\n",
       "      <td>0</td>\n",
       "      <td>0</td>\n",
       "      <td>0.0</td>\n",
       "    </tr>\n",
       "    <tr>\n",
       "      <th>2</th>\n",
       "      <td>0.342176</td>\n",
       "      <td>75</td>\n",
       "      <td>0</td>\n",
       "      <td>1</td>\n",
       "      <td>0</td>\n",
       "      <td>0</td>\n",
       "      <td>0</td>\n",
       "      <td>0</td>\n",
       "      <td>0</td>\n",
       "      <td>0</td>\n",
       "      <td>...</td>\n",
       "      <td>0</td>\n",
       "      <td>0</td>\n",
       "      <td>0</td>\n",
       "      <td>0</td>\n",
       "      <td>0</td>\n",
       "      <td>0</td>\n",
       "      <td>0</td>\n",
       "      <td>0</td>\n",
       "      <td>0</td>\n",
       "      <td>0.0</td>\n",
       "    </tr>\n",
       "    <tr>\n",
       "      <th>3</th>\n",
       "      <td>0.046219</td>\n",
       "      <td>50</td>\n",
       "      <td>1</td>\n",
       "      <td>0</td>\n",
       "      <td>0</td>\n",
       "      <td>0</td>\n",
       "      <td>0</td>\n",
       "      <td>0</td>\n",
       "      <td>0</td>\n",
       "      <td>0</td>\n",
       "      <td>...</td>\n",
       "      <td>0</td>\n",
       "      <td>0</td>\n",
       "      <td>0</td>\n",
       "      <td>0</td>\n",
       "      <td>0</td>\n",
       "      <td>0</td>\n",
       "      <td>0</td>\n",
       "      <td>0</td>\n",
       "      <td>0</td>\n",
       "      <td>3.0</td>\n",
       "    </tr>\n",
       "    <tr>\n",
       "      <th>4</th>\n",
       "      <td>0.679556</td>\n",
       "      <td>58</td>\n",
       "      <td>1</td>\n",
       "      <td>0</td>\n",
       "      <td>0</td>\n",
       "      <td>0</td>\n",
       "      <td>0</td>\n",
       "      <td>0</td>\n",
       "      <td>0</td>\n",
       "      <td>0</td>\n",
       "      <td>...</td>\n",
       "      <td>0</td>\n",
       "      <td>0</td>\n",
       "      <td>0</td>\n",
       "      <td>0</td>\n",
       "      <td>0</td>\n",
       "      <td>0</td>\n",
       "      <td>0</td>\n",
       "      <td>0</td>\n",
       "      <td>0</td>\n",
       "      <td>2.0</td>\n",
       "    </tr>\n",
       "    <tr>\n",
       "      <th>...</th>\n",
       "      <td>...</td>\n",
       "      <td>...</td>\n",
       "      <td>...</td>\n",
       "      <td>...</td>\n",
       "      <td>...</td>\n",
       "      <td>...</td>\n",
       "      <td>...</td>\n",
       "      <td>...</td>\n",
       "      <td>...</td>\n",
       "      <td>...</td>\n",
       "      <td>...</td>\n",
       "      <td>...</td>\n",
       "      <td>...</td>\n",
       "      <td>...</td>\n",
       "      <td>...</td>\n",
       "      <td>...</td>\n",
       "      <td>...</td>\n",
       "      <td>...</td>\n",
       "      <td>...</td>\n",
       "      <td>...</td>\n",
       "      <td>...</td>\n",
       "    </tr>\n",
       "    <tr>\n",
       "      <th>105104</th>\n",
       "      <td>0.017608</td>\n",
       "      <td>62</td>\n",
       "      <td>1</td>\n",
       "      <td>0</td>\n",
       "      <td>0</td>\n",
       "      <td>0</td>\n",
       "      <td>0</td>\n",
       "      <td>0</td>\n",
       "      <td>0</td>\n",
       "      <td>0</td>\n",
       "      <td>...</td>\n",
       "      <td>0</td>\n",
       "      <td>0</td>\n",
       "      <td>0</td>\n",
       "      <td>0</td>\n",
       "      <td>0</td>\n",
       "      <td>0</td>\n",
       "      <td>0</td>\n",
       "      <td>0</td>\n",
       "      <td>0</td>\n",
       "      <td>0.0</td>\n",
       "    </tr>\n",
       "    <tr>\n",
       "      <th>105105</th>\n",
       "      <td>0.980631</td>\n",
       "      <td>25</td>\n",
       "      <td>1</td>\n",
       "      <td>0</td>\n",
       "      <td>0</td>\n",
       "      <td>0</td>\n",
       "      <td>0</td>\n",
       "      <td>0</td>\n",
       "      <td>0</td>\n",
       "      <td>0</td>\n",
       "      <td>...</td>\n",
       "      <td>0</td>\n",
       "      <td>0</td>\n",
       "      <td>0</td>\n",
       "      <td>0</td>\n",
       "      <td>0</td>\n",
       "      <td>0</td>\n",
       "      <td>0</td>\n",
       "      <td>0</td>\n",
       "      <td>0</td>\n",
       "      <td>0.0</td>\n",
       "    </tr>\n",
       "    <tr>\n",
       "      <th>105106</th>\n",
       "      <td>0.050256</td>\n",
       "      <td>73</td>\n",
       "      <td>0</td>\n",
       "      <td>1</td>\n",
       "      <td>0</td>\n",
       "      <td>0</td>\n",
       "      <td>0</td>\n",
       "      <td>0</td>\n",
       "      <td>0</td>\n",
       "      <td>0</td>\n",
       "      <td>...</td>\n",
       "      <td>0</td>\n",
       "      <td>0</td>\n",
       "      <td>0</td>\n",
       "      <td>0</td>\n",
       "      <td>0</td>\n",
       "      <td>0</td>\n",
       "      <td>0</td>\n",
       "      <td>0</td>\n",
       "      <td>0</td>\n",
       "      <td>0.0</td>\n",
       "    </tr>\n",
       "    <tr>\n",
       "      <th>105107</th>\n",
       "      <td>0.447882</td>\n",
       "      <td>43</td>\n",
       "      <td>1</td>\n",
       "      <td>0</td>\n",
       "      <td>0</td>\n",
       "      <td>0</td>\n",
       "      <td>0</td>\n",
       "      <td>0</td>\n",
       "      <td>0</td>\n",
       "      <td>0</td>\n",
       "      <td>...</td>\n",
       "      <td>0</td>\n",
       "      <td>0</td>\n",
       "      <td>0</td>\n",
       "      <td>0</td>\n",
       "      <td>0</td>\n",
       "      <td>0</td>\n",
       "      <td>0</td>\n",
       "      <td>0</td>\n",
       "      <td>0</td>\n",
       "      <td>0.0</td>\n",
       "    </tr>\n",
       "    <tr>\n",
       "      <th>105108</th>\n",
       "      <td>0.563791</td>\n",
       "      <td>50</td>\n",
       "      <td>0</td>\n",
       "      <td>1</td>\n",
       "      <td>0</td>\n",
       "      <td>0</td>\n",
       "      <td>0</td>\n",
       "      <td>0</td>\n",
       "      <td>0</td>\n",
       "      <td>0</td>\n",
       "      <td>...</td>\n",
       "      <td>0</td>\n",
       "      <td>0</td>\n",
       "      <td>0</td>\n",
       "      <td>0</td>\n",
       "      <td>0</td>\n",
       "      <td>0</td>\n",
       "      <td>0</td>\n",
       "      <td>0</td>\n",
       "      <td>0</td>\n",
       "      <td>1.0</td>\n",
       "    </tr>\n",
       "  </tbody>\n",
       "</table>\n",
       "<p>105109 rows × 51 columns</p>\n",
       "</div>"
      ],
      "text/plain": [
       "        credit_card_utilization  age  overdue_30_59_days_1  \\\n",
       "0                      0.000000   56                     1   \n",
       "1                      0.170659   45                     0   \n",
       "2                      0.342176   75                     0   \n",
       "3                      0.046219   50                     1   \n",
       "4                      0.679556   58                     1   \n",
       "...                         ...  ...                   ...   \n",
       "105104                 0.017608   62                     1   \n",
       "105105                 0.980631   25                     1   \n",
       "105106                 0.050256   73                     0   \n",
       "105107                 0.447882   43                     1   \n",
       "105108                 0.563791   50                     0   \n",
       "\n",
       "        overdue_30_59_days_2  overdue_30_59_days_3  overdue_30_59_days_4  \\\n",
       "0                          0                     0                     0   \n",
       "1                          1                     0                     0   \n",
       "2                          1                     0                     0   \n",
       "3                          0                     0                     0   \n",
       "4                          0                     0                     0   \n",
       "...                      ...                   ...                   ...   \n",
       "105104                     0                     0                     0   \n",
       "105105                     0                     0                     0   \n",
       "105106                     1                     0                     0   \n",
       "105107                     0                     0                     0   \n",
       "105108                     1                     0                     0   \n",
       "\n",
       "        overdue_30_59_days_5  overdue_30_59_days_6  overdue_30_59_days_7  \\\n",
       "0                          0                     0                     0   \n",
       "1                          0                     0                     0   \n",
       "2                          0                     0                     0   \n",
       "3                          0                     0                     0   \n",
       "4                          0                     0                     0   \n",
       "...                      ...                   ...                   ...   \n",
       "105104                     0                     0                     0   \n",
       "105105                     0                     0                     0   \n",
       "105106                     0                     0                     0   \n",
       "105107                     0                     0                     0   \n",
       "105108                     0                     0                     0   \n",
       "\n",
       "        overdue_30_59_days_8  ...  overdue_60_89_days_5  overdue_60_89_days_6  \\\n",
       "0                          0  ...                     0                     0   \n",
       "1                          0  ...                     0                     0   \n",
       "2                          0  ...                     0                     0   \n",
       "3                          0  ...                     0                     0   \n",
       "4                          0  ...                     0                     0   \n",
       "...                      ...  ...                   ...                   ...   \n",
       "105104                     0  ...                     0                     0   \n",
       "105105                     0  ...                     0                     0   \n",
       "105106                     0  ...                     0                     0   \n",
       "105107                     0  ...                     0                     0   \n",
       "105108                     0  ...                     0                     0   \n",
       "\n",
       "        overdue_60_89_days_7  overdue_60_89_days_8  overdue_60_89_days_9  \\\n",
       "0                          0                     0                     0   \n",
       "1                          0                     0                     0   \n",
       "2                          0                     0                     0   \n",
       "3                          0                     0                     0   \n",
       "4                          0                     0                     0   \n",
       "...                      ...                   ...                   ...   \n",
       "105104                     0                     0                     0   \n",
       "105105                     0                     0                     0   \n",
       "105106                     0                     0                     0   \n",
       "105107                     0                     0                     0   \n",
       "105108                     0                     0                     0   \n",
       "\n",
       "        overdue_60_89_days_10  overdue_60_89_days_11  overdue_60_89_days_12  \\\n",
       "0                           0                      0                      0   \n",
       "1                           0                      0                      0   \n",
       "2                           0                      0                      0   \n",
       "3                           0                      0                      0   \n",
       "4                           0                      0                      0   \n",
       "...                       ...                    ...                    ...   \n",
       "105104                      0                      0                      0   \n",
       "105105                      0                      0                      0   \n",
       "105106                      0                      0                      0   \n",
       "105107                      0                      0                      0   \n",
       "105108                      0                      0                      0   \n",
       "\n",
       "        overdue_60_89_days_13  family_members  \n",
       "0                           0             5.0  \n",
       "1                           0             0.0  \n",
       "2                           0             0.0  \n",
       "3                           0             3.0  \n",
       "4                           0             2.0  \n",
       "...                       ...             ...  \n",
       "105104                      0             0.0  \n",
       "105105                      0             0.0  \n",
       "105106                      0             0.0  \n",
       "105107                      0             0.0  \n",
       "105108                      0             1.0  \n",
       "\n",
       "[105109 rows x 51 columns]"
      ]
     },
     "execution_count": 511,
     "metadata": {},
     "output_type": "execute_result"
    }
   ],
   "source": [
    "x_train = ohe.fit_transform(x_train)\n",
    "x_train"
   ]
  },
  {
   "cell_type": "markdown",
   "id": "4c53259c",
   "metadata": {},
   "source": [
    "# Генерация признаков (не производилась)"
   ]
  },
  {
   "cell_type": "code",
   "execution_count": 512,
   "id": "09454eae",
   "metadata": {},
   "outputs": [],
   "source": [
    "Xtr=x_train\n",
    "Ytr=y_train"
   ]
  },
  {
   "cell_type": "markdown",
   "id": "165ceb57",
   "metadata": {},
   "source": [
    "# Выбор модели и оптимизация"
   ]
  },
  {
   "cell_type": "markdown",
   "id": "55d19aa2",
   "metadata": {},
   "source": [
    "##### Logistic Regression"
   ]
  },
  {
   "cell_type": "code",
   "execution_count": 513,
   "id": "080515cb",
   "metadata": {},
   "outputs": [],
   "source": [
    "from sklearn.linear_model import LogisticRegression\n",
    "from sklearn.tree import DecisionTreeClassifier\n",
    "from sklearn.model_selection import StratifiedKFold, GridSearchCV"
   ]
  },
  {
   "cell_type": "code",
   "execution_count": 514,
   "id": "638f1e1b",
   "metadata": {},
   "outputs": [],
   "source": [
    "model = LogisticRegression()\n",
    "params = {'C': np.logspace(-7, 0, 20)}\n",
    "cv = StratifiedKFold(shuffle=True, n_splits=5)\n",
    "GS_LR = GridSearchCV(estimator=model, param_grid=params, cv=cv, scoring='roc_auc')"
   ]
  },
  {
   "cell_type": "code",
   "execution_count": 515,
   "id": "d5f5f485",
   "metadata": {},
   "outputs": [
    {
     "data": {
      "text/plain": [
       "GridSearchCV(cv=StratifiedKFold(n_splits=5, random_state=None, shuffle=True),\n",
       "             estimator=LogisticRegression(),\n",
       "             param_grid={'C': array([1.00000000e-07, 2.33572147e-07, 5.45559478e-07, 1.27427499e-06,\n",
       "       2.97635144e-06, 6.95192796e-06, 1.62377674e-05, 3.79269019e-05,\n",
       "       8.85866790e-05, 2.06913808e-04, 4.83293024e-04, 1.12883789e-03,\n",
       "       2.63665090e-03, 6.15848211e-03, 1.43844989e-02, 3.35981829e-02,\n",
       "       7.84759970e-02, 1.83298071e-01, 4.28133240e-01, 1.00000000e+00])},\n",
       "             scoring='roc_auc')"
      ]
     },
     "execution_count": 515,
     "metadata": {},
     "output_type": "execute_result"
    }
   ],
   "source": [
    "GS_LR.fit(X=Xtr, y=Ytr)"
   ]
  },
  {
   "cell_type": "code",
   "execution_count": 516,
   "id": "bbd0e0a1",
   "metadata": {},
   "outputs": [
    {
     "data": {
      "text/plain": [
       "{'C': 0.0011288378916846883}"
      ]
     },
     "execution_count": 516,
     "metadata": {},
     "output_type": "execute_result"
    }
   ],
   "source": [
    "# Лучшая модель при параметре \"C\"\n",
    "GS_LR.best_params_"
   ]
  },
  {
   "cell_type": "code",
   "execution_count": 517,
   "id": "960e4e00",
   "metadata": {},
   "outputs": [
    {
     "data": {
      "text/plain": [
       "0.8063712129399683"
      ]
     },
     "execution_count": 517,
     "metadata": {},
     "output_type": "execute_result"
    }
   ],
   "source": [
    "# Лучший показатель ROC_AUC\n",
    "GS_LR.best_score_"
   ]
  },
  {
   "cell_type": "code",
   "execution_count": 518,
   "id": "075c67b4",
   "metadata": {},
   "outputs": [
    {
     "data": {
      "text/plain": [
       "array([[ 1.20278035e-06, -1.92186617e-02, -7.63585036e-01,\n",
       "         2.32429900e-01,  1.79574434e-01,  9.90670706e-02,\n",
       "         5.89918244e-03,  5.60536499e-02,  1.54939350e-02,\n",
       "         2.23998184e-02,  2.91519610e-02,  8.33401737e-04,\n",
       "         1.49801906e-03,  9.62081426e-04,  7.56435347e-04,\n",
       "        -2.77984590e-05,  2.79806634e-04, -3.25959991e-05,\n",
       "        -4.32302179e-05, -5.43455844e-03, -6.79153254e-01,\n",
       "         2.63552600e-01,  3.68493508e-02,  1.32409831e-01,\n",
       "         6.92382095e-02,  2.23998184e-02,  1.47819666e-02,\n",
       "         7.00512661e-03,  4.43334368e-03,  3.18594804e-03,\n",
       "         3.07269999e-03,  4.61773497e-04,  9.62081426e-04,\n",
       "         5.39147488e-04,  8.22743805e-04,  2.25474329e-04,\n",
       "         1.50690640e-01, -5.62208130e-01,  2.76335530e-01,\n",
       "         3.22226230e-02,  9.05611522e-02,  2.23998184e-02,\n",
       "         1.14194907e-02,  2.18668922e-03,  5.11753901e-03,\n",
       "         1.30940400e-03,  9.62081426e-04, -4.46886939e-05,\n",
       "         2.49004832e-04,  2.76347241e-04,  2.14315510e-01]])"
      ]
     },
     "execution_count": 518,
     "metadata": {},
     "output_type": "execute_result"
    }
   ],
   "source": [
    "GS_LR.best_estimator_.coef_"
   ]
  },
  {
   "cell_type": "code",
   "execution_count": 519,
   "id": "41dbaa6f",
   "metadata": {},
   "outputs": [
    {
     "data": {
      "image/png": "[encoded data removed]",
      "text/plain": [
       "<Figure size 432x288 with 1 Axes>"
      ]
     },
     "metadata": {},
     "output_type": "display_data"
    }
   ],
   "source": [
    "means = GS_LR.cv_results_['mean_test_score']\n",
    "stds = GS_LR.cv_results_['std_test_score']\n",
    "error = 1.95 * stds\n",
    "plt.plot(params['C'], means, color = 'blue')\n",
    "plt.plot(params['C'], means - error, color = 'green')\n",
    "plt.plot(params['C'], means + error, color = 'green')\n",
    "plt.fill_between(params['C'], means - error, means + error, color = 'green')\n",
    "plt.xlabel('C')\n",
    "plt.ylabel('Average quality')\n",
    "plt.title('Average quality for LR model')\n",
    "plt.show()"
   ]
  },
  {
   "cell_type": "markdown",
   "id": "8331ec4e",
   "metadata": {},
   "source": [
    "# Нормировка данных"
   ]
  },
  {
   "cell_type": "code",
   "execution_count": 520,
   "id": "6116fca1",
   "metadata": {},
   "outputs": [],
   "source": [
    "from sklearn.preprocessing import StandardScaler"
   ]
  },
  {
   "cell_type": "code",
   "execution_count": 521,
   "id": "61c874be",
   "metadata": {},
   "outputs": [],
   "source": [
    "ss = StandardScaler(with_mean=True, with_std=True)"
   ]
  },
  {
   "cell_type": "markdown",
   "id": "32e4f788",
   "metadata": {},
   "source": [
    "## Готовим предсказания на тестовых данных"
   ]
  },
  {
   "cell_type": "code",
   "execution_count": 522,
   "id": "3ee55f81",
   "metadata": {},
   "outputs": [
    {
     "data": {
      "text/html": [
       "<div>\n",
       "<style scoped>\n",
       "    .dataframe tbody tr th:only-of-type {\n",
       "        vertical-align: middle;\n",
       "    }\n",
       "\n",
       "    .dataframe tbody tr th {\n",
       "        vertical-align: top;\n",
       "    }\n",
       "\n",
       "    .dataframe thead th {\n",
       "        text-align: right;\n",
       "    }\n",
       "</style>\n",
       "<table border=\"1\" class=\"dataframe\">\n",
       "  <thead>\n",
       "    <tr style=\"text-align: right;\">\n",
       "      <th></th>\n",
       "      <th>index</th>\n",
       "      <th>credit_card_utilization</th>\n",
       "      <th>age</th>\n",
       "      <th>overdue_30_59_days</th>\n",
       "      <th>debt_to_income</th>\n",
       "      <th>monthly_income</th>\n",
       "      <th>credits_loans</th>\n",
       "      <th>overdue__more_than_90_days</th>\n",
       "      <th>mortgage_loans</th>\n",
       "      <th>overdue_60_89_days</th>\n",
       "      <th>family_members</th>\n",
       "    </tr>\n",
       "  </thead>\n",
       "  <tbody>\n",
       "    <tr>\n",
       "      <th>0</th>\n",
       "      <td>143522</td>\n",
       "      <td>0.021069</td>\n",
       "      <td>60</td>\n",
       "      <td>0</td>\n",
       "      <td>0.184907</td>\n",
       "      <td>14403.715440</td>\n",
       "      <td>9</td>\n",
       "      <td>0</td>\n",
       "      <td>1</td>\n",
       "      <td>0</td>\n",
       "      <td>0.0</td>\n",
       "    </tr>\n",
       "    <tr>\n",
       "      <th>1</th>\n",
       "      <td>116747</td>\n",
       "      <td>0.009985</td>\n",
       "      <td>82</td>\n",
       "      <td>0</td>\n",
       "      <td>0.446264</td>\n",
       "      <td>6768.581963</td>\n",
       "      <td>6</td>\n",
       "      <td>0</td>\n",
       "      <td>3</td>\n",
       "      <td>0</td>\n",
       "      <td>0.0</td>\n",
       "    </tr>\n",
       "    <tr>\n",
       "      <th>2</th>\n",
       "      <td>66075</td>\n",
       "      <td>0.535187</td>\n",
       "      <td>43</td>\n",
       "      <td>1</td>\n",
       "      <td>0.406317</td>\n",
       "      <td>4686.080429</td>\n",
       "      <td>14</td>\n",
       "      <td>0</td>\n",
       "      <td>2</td>\n",
       "      <td>0</td>\n",
       "      <td>3.0</td>\n",
       "    </tr>\n",
       "    <tr>\n",
       "      <th>3</th>\n",
       "      <td>133292</td>\n",
       "      <td>0.051264</td>\n",
       "      <td>31</td>\n",
       "      <td>0</td>\n",
       "      <td>0.311893</td>\n",
       "      <td>3867.175176</td>\n",
       "      <td>8</td>\n",
       "      <td>0</td>\n",
       "      <td>0</td>\n",
       "      <td>0</td>\n",
       "      <td>1.0</td>\n",
       "    </tr>\n",
       "    <tr>\n",
       "      <th>4</th>\n",
       "      <td>83134</td>\n",
       "      <td>0.069525</td>\n",
       "      <td>45</td>\n",
       "      <td>0</td>\n",
       "      <td>0.294956</td>\n",
       "      <td>9869.273012</td>\n",
       "      <td>6</td>\n",
       "      <td>0</td>\n",
       "      <td>1</td>\n",
       "      <td>0</td>\n",
       "      <td>2.0</td>\n",
       "    </tr>\n",
       "    <tr>\n",
       "      <th>...</th>\n",
       "      <td>...</td>\n",
       "      <td>...</td>\n",
       "      <td>...</td>\n",
       "      <td>...</td>\n",
       "      <td>...</td>\n",
       "      <td>...</td>\n",
       "      <td>...</td>\n",
       "      <td>...</td>\n",
       "      <td>...</td>\n",
       "      <td>...</td>\n",
       "      <td>...</td>\n",
       "    </tr>\n",
       "    <tr>\n",
       "      <th>38871</th>\n",
       "      <td>44475</td>\n",
       "      <td>0.731740</td>\n",
       "      <td>39</td>\n",
       "      <td>0</td>\n",
       "      <td>0.251005</td>\n",
       "      <td>3474.894386</td>\n",
       "      <td>5</td>\n",
       "      <td>0</td>\n",
       "      <td>0</td>\n",
       "      <td>0</td>\n",
       "      <td>0.0</td>\n",
       "    </tr>\n",
       "    <tr>\n",
       "      <th>38872</th>\n",
       "      <td>103189</td>\n",
       "      <td>0.010959</td>\n",
       "      <td>70</td>\n",
       "      <td>0</td>\n",
       "      <td>0.152539</td>\n",
       "      <td>4170.426464</td>\n",
       "      <td>14</td>\n",
       "      <td>0</td>\n",
       "      <td>1</td>\n",
       "      <td>0</td>\n",
       "      <td>0.0</td>\n",
       "    </tr>\n",
       "    <tr>\n",
       "      <th>38873</th>\n",
       "      <td>48732</td>\n",
       "      <td>0.084612</td>\n",
       "      <td>52</td>\n",
       "      <td>0</td>\n",
       "      <td>5288.053772</td>\n",
       "      <td>NaN</td>\n",
       "      <td>15</td>\n",
       "      <td>0</td>\n",
       "      <td>2</td>\n",
       "      <td>0</td>\n",
       "      <td>0.0</td>\n",
       "    </tr>\n",
       "    <tr>\n",
       "      <th>38874</th>\n",
       "      <td>135410</td>\n",
       "      <td>0.741717</td>\n",
       "      <td>51</td>\n",
       "      <td>0</td>\n",
       "      <td>0.378356</td>\n",
       "      <td>5441.458787</td>\n",
       "      <td>9</td>\n",
       "      <td>0</td>\n",
       "      <td>2</td>\n",
       "      <td>0</td>\n",
       "      <td>0.0</td>\n",
       "    </tr>\n",
       "    <tr>\n",
       "      <th>38875</th>\n",
       "      <td>73457</td>\n",
       "      <td>0.014229</td>\n",
       "      <td>65</td>\n",
       "      <td>0</td>\n",
       "      <td>0.002321</td>\n",
       "      <td>199556.312925</td>\n",
       "      <td>3</td>\n",
       "      <td>0</td>\n",
       "      <td>1</td>\n",
       "      <td>0</td>\n",
       "      <td>0.0</td>\n",
       "    </tr>\n",
       "  </tbody>\n",
       "</table>\n",
       "<p>38876 rows × 11 columns</p>\n",
       "</div>"
      ],
      "text/plain": [
       "        index  credit_card_utilization  age  overdue_30_59_days  \\\n",
       "0      143522                 0.021069   60                   0   \n",
       "1      116747                 0.009985   82                   0   \n",
       "2       66075                 0.535187   43                   1   \n",
       "3      133292                 0.051264   31                   0   \n",
       "4       83134                 0.069525   45                   0   \n",
       "...       ...                      ...  ...                 ...   \n",
       "38871   44475                 0.731740   39                   0   \n",
       "38872  103189                 0.010959   70                   0   \n",
       "38873   48732                 0.084612   52                   0   \n",
       "38874  135410                 0.741717   51                   0   \n",
       "38875   73457                 0.014229   65                   0   \n",
       "\n",
       "       debt_to_income  monthly_income  credits_loans  \\\n",
       "0            0.184907    14403.715440              9   \n",
       "1            0.446264     6768.581963              6   \n",
       "2            0.406317     4686.080429             14   \n",
       "3            0.311893     3867.175176              8   \n",
       "4            0.294956     9869.273012              6   \n",
       "...               ...             ...            ...   \n",
       "38871        0.251005     3474.894386              5   \n",
       "38872        0.152539     4170.426464             14   \n",
       "38873     5288.053772             NaN             15   \n",
       "38874        0.378356     5441.458787              9   \n",
       "38875        0.002321   199556.312925              3   \n",
       "\n",
       "       overdue__more_than_90_days  mortgage_loans  overdue_60_89_days  \\\n",
       "0                               0               1                   0   \n",
       "1                               0               3                   0   \n",
       "2                               0               2                   0   \n",
       "3                               0               0                   0   \n",
       "4                               0               1                   0   \n",
       "...                           ...             ...                 ...   \n",
       "38871                           0               0                   0   \n",
       "38872                           0               1                   0   \n",
       "38873                           0               2                   0   \n",
       "38874                           0               2                   0   \n",
       "38875                           0               1                   0   \n",
       "\n",
       "       family_members  \n",
       "0                 0.0  \n",
       "1                 0.0  \n",
       "2                 3.0  \n",
       "3                 1.0  \n",
       "4                 2.0  \n",
       "...               ...  \n",
       "38871             0.0  \n",
       "38872             0.0  \n",
       "38873             0.0  \n",
       "38874             0.0  \n",
       "38875             0.0  \n",
       "\n",
       "[38876 rows x 11 columns]"
      ]
     },
     "execution_count": 522,
     "metadata": {},
     "output_type": "execute_result"
    }
   ],
   "source": [
    "x_test = pd.read_csv('./X_test.csv')\n",
    "x_test"
   ]
  },
  {
   "cell_type": "code",
   "execution_count": 523,
   "id": "c34d21cb",
   "metadata": {},
   "outputs": [],
   "source": [
    "x_test.drop('index', axis=1, inplace=True)"
   ]
  },
  {
   "cell_type": "code",
   "execution_count": 524,
   "id": "9fe545a5",
   "metadata": {},
   "outputs": [
    {
     "data": {
      "text/plain": [
       "credit_card_utilization          0\n",
       "age                              0\n",
       "overdue_30_59_days               0\n",
       "debt_to_income                   0\n",
       "monthly_income                7545\n",
       "credits_loans                    0\n",
       "overdue__more_than_90_days       0\n",
       "mortgage_loans                   0\n",
       "overdue_60_89_days               0\n",
       "family_members                 955\n",
       "dtype: int64"
      ]
     },
     "execution_count": 524,
     "metadata": {},
     "output_type": "execute_result"
    }
   ],
   "source": [
    "pd.isnull(x_test).sum()"
   ]
  },
  {
   "cell_type": "code",
   "execution_count": 525,
   "id": "5586cffc",
   "metadata": {},
   "outputs": [
    {
     "data": {
      "text/plain": [
       "(38876, 10)"
      ]
     },
     "execution_count": 525,
     "metadata": {},
     "output_type": "execute_result"
    }
   ],
   "source": [
    "x_test.shape"
   ]
  },
  {
   "cell_type": "code",
   "execution_count": 526,
   "id": "da413e47",
   "metadata": {},
   "outputs": [
    {
     "data": {
      "text/plain": [
       "(38876, 10)"
      ]
     },
     "execution_count": 526,
     "metadata": {},
     "output_type": "execute_result"
    }
   ],
   "source": [
    "X=x_test\n",
    "X.shape"
   ]
  },
  {
   "cell_type": "markdown",
   "id": "08305838",
   "metadata": {},
   "source": [
    "# Pipeline"
   ]
  },
  {
   "cell_type": "code",
   "execution_count": 611,
   "id": "bf60e7b7",
   "metadata": {},
   "outputs": [],
   "source": [
    "x_train = pd.read_csv('./X_train.csv')\n",
    "X=x_train\n",
    "y_train = pd.read_csv('./Y_train.csv')\n",
    "y = (y_train.target == 1) * 1"
   ]
  },
  {
   "cell_type": "code",
   "execution_count": 612,
   "id": "b2a7e885",
   "metadata": {},
   "outputs": [],
   "source": [
    "from sklearn.preprocessing import StandardScaler\n",
    "from sklearn.ensemble import VotingClassifier\n",
    "from sklearn.pipeline import Pipeline\n",
    "from sklearn.base import BaseEstimator"
   ]
  },
  {
   "cell_type": "code",
   "execution_count": 613,
   "id": "55154e1f",
   "metadata": {},
   "outputs": [
    {
     "data": {
      "text/plain": [
       "(105109, 10)"
      ]
     },
     "execution_count": 613,
     "metadata": {},
     "output_type": "execute_result"
    }
   ],
   "source": [
    "X.shape"
   ]
  },
  {
   "cell_type": "code",
   "execution_count": 614,
   "id": "614e3f45",
   "metadata": {},
   "outputs": [
    {
     "data": {
      "text/plain": [
       "(105109,)"
      ]
     },
     "execution_count": 614,
     "metadata": {},
     "output_type": "execute_result"
    }
   ],
   "source": [
    "y.shape"
   ]
  },
  {
   "cell_type": "code",
   "execution_count": 615,
   "id": "2e857574",
   "metadata": {},
   "outputs": [],
   "source": [
    "class FeaturesTransform(BaseEstimator):\n",
    "    def __init__(self):\n",
    "        pass\n",
    "    def fit(self, X, y=None):\n",
    "        return self\n",
    "    def transform(self, df):\n",
    "        df['monthly_income'] = df['monthly_income'].fillna(df['monthly_income'].median())\n",
    "        df['family_members'] = df['family_members'].fillna(df['family_members'].median())\n",
    "        return df"
   ]
  },
  {
   "cell_type": "code",
   "execution_count": 616,
   "id": "544b8485",
   "metadata": {},
   "outputs": [],
   "source": [
    "vc = VotingClassifier([('LR', LogisticRegression(**GS_LR.best_params_))], voting='soft')"
   ]
  },
  {
   "cell_type": "code",
   "execution_count": 617,
   "id": "fd2eac78",
   "metadata": {},
   "outputs": [],
   "source": [
    "pipe = Pipeline([('features', FeaturesTransform()),\n",
    "                 ('cats', OneHotEncoder(cols=cat)),\n",
    "                 ('scaler', StandardScaler()),\n",
    "                 ('best_model', vc)\n",
    "                ])"
   ]
  },
  {
   "cell_type": "code",
   "execution_count": 618,
   "id": "cbce38c8",
   "metadata": {},
   "outputs": [],
   "source": [
    "a_p = pipe.fit_transform(X, y)"
   ]
  },
  {
   "cell_type": "code",
   "execution_count": 619,
   "id": "88d6e587",
   "metadata": {},
   "outputs": [
    {
     "data": {
      "text/plain": [
       "array([[0.96218905, 0.03781095],\n",
       "       [0.91241292, 0.08758708],\n",
       "       [0.95578057, 0.04421943],\n",
       "       ...,\n",
       "       [0.94513882, 0.05486118],\n",
       "       [0.89707084, 0.10292916],\n",
       "       [0.90460171, 0.09539829]])"
      ]
     },
     "execution_count": 619,
     "metadata": {},
     "output_type": "execute_result"
    }
   ],
   "source": [
    "a_p"
   ]
  },
  {
   "cell_type": "markdown",
   "id": "03334ffa",
   "metadata": {},
   "source": [
    "### Готовим предсказания на отправку"
   ]
  },
  {
   "cell_type": "code",
   "execution_count": 741,
   "id": "355eabbd",
   "metadata": {},
   "outputs": [
    {
     "data": {
      "text/html": [
       "<div>\n",
       "<style scoped>\n",
       "    .dataframe tbody tr th:only-of-type {\n",
       "        vertical-align: middle;\n",
       "    }\n",
       "\n",
       "    .dataframe tbody tr th {\n",
       "        vertical-align: top;\n",
       "    }\n",
       "\n",
       "    .dataframe thead th {\n",
       "        text-align: right;\n",
       "    }\n",
       "</style>\n",
       "<table border=\"1\" class=\"dataframe\">\n",
       "  <thead>\n",
       "    <tr style=\"text-align: right;\">\n",
       "      <th></th>\n",
       "      <th>credit_card_utilization</th>\n",
       "      <th>age</th>\n",
       "      <th>overdue_30_59_days</th>\n",
       "      <th>debt_to_income</th>\n",
       "      <th>monthly_income</th>\n",
       "      <th>credits_loans</th>\n",
       "      <th>overdue__more_than_90_days</th>\n",
       "      <th>mortgage_loans</th>\n",
       "      <th>overdue_60_89_days</th>\n",
       "      <th>family_members</th>\n",
       "    </tr>\n",
       "  </thead>\n",
       "  <tbody>\n",
       "    <tr>\n",
       "      <th>0</th>\n",
       "      <td>0.021069</td>\n",
       "      <td>60</td>\n",
       "      <td>0</td>\n",
       "      <td>0.184907</td>\n",
       "      <td>14403.715440</td>\n",
       "      <td>9</td>\n",
       "      <td>0</td>\n",
       "      <td>1</td>\n",
       "      <td>0</td>\n",
       "      <td>0.0</td>\n",
       "    </tr>\n",
       "    <tr>\n",
       "      <th>1</th>\n",
       "      <td>0.009985</td>\n",
       "      <td>82</td>\n",
       "      <td>0</td>\n",
       "      <td>0.446264</td>\n",
       "      <td>6768.581963</td>\n",
       "      <td>6</td>\n",
       "      <td>0</td>\n",
       "      <td>3</td>\n",
       "      <td>0</td>\n",
       "      <td>0.0</td>\n",
       "    </tr>\n",
       "    <tr>\n",
       "      <th>2</th>\n",
       "      <td>0.535187</td>\n",
       "      <td>43</td>\n",
       "      <td>1</td>\n",
       "      <td>0.406317</td>\n",
       "      <td>4686.080429</td>\n",
       "      <td>14</td>\n",
       "      <td>0</td>\n",
       "      <td>2</td>\n",
       "      <td>0</td>\n",
       "      <td>3.0</td>\n",
       "    </tr>\n",
       "    <tr>\n",
       "      <th>3</th>\n",
       "      <td>0.051264</td>\n",
       "      <td>31</td>\n",
       "      <td>0</td>\n",
       "      <td>0.311893</td>\n",
       "      <td>3867.175176</td>\n",
       "      <td>8</td>\n",
       "      <td>0</td>\n",
       "      <td>0</td>\n",
       "      <td>0</td>\n",
       "      <td>1.0</td>\n",
       "    </tr>\n",
       "    <tr>\n",
       "      <th>4</th>\n",
       "      <td>0.069525</td>\n",
       "      <td>45</td>\n",
       "      <td>0</td>\n",
       "      <td>0.294956</td>\n",
       "      <td>9869.273012</td>\n",
       "      <td>6</td>\n",
       "      <td>0</td>\n",
       "      <td>1</td>\n",
       "      <td>0</td>\n",
       "      <td>2.0</td>\n",
       "    </tr>\n",
       "    <tr>\n",
       "      <th>...</th>\n",
       "      <td>...</td>\n",
       "      <td>...</td>\n",
       "      <td>...</td>\n",
       "      <td>...</td>\n",
       "      <td>...</td>\n",
       "      <td>...</td>\n",
       "      <td>...</td>\n",
       "      <td>...</td>\n",
       "      <td>...</td>\n",
       "      <td>...</td>\n",
       "    </tr>\n",
       "    <tr>\n",
       "      <th>38871</th>\n",
       "      <td>0.731740</td>\n",
       "      <td>39</td>\n",
       "      <td>0</td>\n",
       "      <td>0.251005</td>\n",
       "      <td>3474.894386</td>\n",
       "      <td>5</td>\n",
       "      <td>0</td>\n",
       "      <td>0</td>\n",
       "      <td>0</td>\n",
       "      <td>0.0</td>\n",
       "    </tr>\n",
       "    <tr>\n",
       "      <th>38872</th>\n",
       "      <td>0.010959</td>\n",
       "      <td>70</td>\n",
       "      <td>0</td>\n",
       "      <td>0.152539</td>\n",
       "      <td>4170.426464</td>\n",
       "      <td>14</td>\n",
       "      <td>0</td>\n",
       "      <td>1</td>\n",
       "      <td>0</td>\n",
       "      <td>0.0</td>\n",
       "    </tr>\n",
       "    <tr>\n",
       "      <th>38873</th>\n",
       "      <td>0.084612</td>\n",
       "      <td>52</td>\n",
       "      <td>0</td>\n",
       "      <td>5288.053772</td>\n",
       "      <td>NaN</td>\n",
       "      <td>15</td>\n",
       "      <td>0</td>\n",
       "      <td>2</td>\n",
       "      <td>0</td>\n",
       "      <td>0.0</td>\n",
       "    </tr>\n",
       "    <tr>\n",
       "      <th>38874</th>\n",
       "      <td>0.741717</td>\n",
       "      <td>51</td>\n",
       "      <td>0</td>\n",
       "      <td>0.378356</td>\n",
       "      <td>5441.458787</td>\n",
       "      <td>9</td>\n",
       "      <td>0</td>\n",
       "      <td>2</td>\n",
       "      <td>0</td>\n",
       "      <td>0.0</td>\n",
       "    </tr>\n",
       "    <tr>\n",
       "      <th>38875</th>\n",
       "      <td>0.014229</td>\n",
       "      <td>65</td>\n",
       "      <td>0</td>\n",
       "      <td>0.002321</td>\n",
       "      <td>199556.312925</td>\n",
       "      <td>3</td>\n",
       "      <td>0</td>\n",
       "      <td>1</td>\n",
       "      <td>0</td>\n",
       "      <td>0.0</td>\n",
       "    </tr>\n",
       "  </tbody>\n",
       "</table>\n",
       "<p>38876 rows × 10 columns</p>\n",
       "</div>"
      ],
      "text/plain": [
       "       credit_card_utilization  age  overdue_30_59_days  debt_to_income  \\\n",
       "0                     0.021069   60                   0        0.184907   \n",
       "1                     0.009985   82                   0        0.446264   \n",
       "2                     0.535187   43                   1        0.406317   \n",
       "3                     0.051264   31                   0        0.311893   \n",
       "4                     0.069525   45                   0        0.294956   \n",
       "...                        ...  ...                 ...             ...   \n",
       "38871                 0.731740   39                   0        0.251005   \n",
       "38872                 0.010959   70                   0        0.152539   \n",
       "38873                 0.084612   52                   0     5288.053772   \n",
       "38874                 0.741717   51                   0        0.378356   \n",
       "38875                 0.014229   65                   0        0.002321   \n",
       "\n",
       "       monthly_income  credits_loans  overdue__more_than_90_days  \\\n",
       "0        14403.715440              9                           0   \n",
       "1         6768.581963              6                           0   \n",
       "2         4686.080429             14                           0   \n",
       "3         3867.175176              8                           0   \n",
       "4         9869.273012              6                           0   \n",
       "...               ...            ...                         ...   \n",
       "38871     3474.894386              5                           0   \n",
       "38872     4170.426464             14                           0   \n",
       "38873             NaN             15                           0   \n",
       "38874     5441.458787              9                           0   \n",
       "38875   199556.312925              3                           0   \n",
       "\n",
       "       mortgage_loans  overdue_60_89_days  family_members  \n",
       "0                   1                   0             0.0  \n",
       "1                   3                   0             0.0  \n",
       "2                   2                   0             3.0  \n",
       "3                   0                   0             1.0  \n",
       "4                   1                   0             2.0  \n",
       "...               ...                 ...             ...  \n",
       "38871               0                   0             0.0  \n",
       "38872               1                   0             0.0  \n",
       "38873               2                   0             0.0  \n",
       "38874               2                   0             0.0  \n",
       "38875               1                   0             0.0  \n",
       "\n",
       "[38876 rows x 10 columns]"
      ]
     },
     "execution_count": 741,
     "metadata": {},
     "output_type": "execute_result"
    }
   ],
   "source": [
    "X_test = pd.read_csv('./X_test.csv')\n",
    "X_test.drop('index', axis=1, inplace=True)\n",
    "X_test"
   ]
  },
  {
   "cell_type": "code",
   "execution_count": 742,
   "id": "64bbe502",
   "metadata": {},
   "outputs": [
    {
     "data": {
      "text/plain": [
       "(38876, 10)"
      ]
     },
     "execution_count": 742,
     "metadata": {},
     "output_type": "execute_result"
    }
   ],
   "source": [
    "X_test.shape"
   ]
  },
  {
   "cell_type": "code",
   "execution_count": 743,
   "id": "9ab098e5",
   "metadata": {},
   "outputs": [],
   "source": [
    "preds = pipe.predict_proba(X_test)[:, 1]"
   ]
  },
  {
   "cell_type": "code",
   "execution_count": 744,
   "id": "41b5f53b",
   "metadata": {},
   "outputs": [
    {
     "data": {
      "text/plain": [
       "array([0.02363657, 0.01854034, 0.11745574, ..., 0.03186848, 0.0347781 ,\n",
       "       0.0014171 ])"
      ]
     },
     "execution_count": 744,
     "metadata": {},
     "output_type": "execute_result"
    }
   ],
   "source": [
    "preds"
   ]
  },
  {
   "cell_type": "code",
   "execution_count": 745,
   "id": "5f5b9b57",
   "metadata": {},
   "outputs": [
    {
     "data": {
      "text/plain": [
       "0.9908826128179472"
      ]
     },
     "execution_count": 745,
     "metadata": {},
     "output_type": "execute_result"
    }
   ],
   "source": [
    "preds.max()"
   ]
  },
  {
   "cell_type": "code",
   "execution_count": 746,
   "id": "6ad0212d",
   "metadata": {},
   "outputs": [
    {
     "data": {
      "text/plain": [
       "7.439588787756073e-22"
      ]
     },
     "execution_count": 746,
     "metadata": {},
     "output_type": "execute_result"
    }
   ],
   "source": [
    "preds.min()"
   ]
  },
  {
   "cell_type": "code",
   "execution_count": 747,
   "id": "ce9111a2",
   "metadata": {},
   "outputs": [],
   "source": [
    "y_test_sample = pd.read_csv('./y_test_sample.csv')"
   ]
  },
  {
   "cell_type": "code",
   "execution_count": 748,
   "id": "88a720c7",
   "metadata": {},
   "outputs": [
    {
     "data": {
      "text/plain": [
       "(38876,)"
      ]
     },
     "execution_count": 748,
     "metadata": {},
     "output_type": "execute_result"
    }
   ],
   "source": [
    "preds.shape"
   ]
  },
  {
   "cell_type": "code",
   "execution_count": 749,
   "id": "f4101e19",
   "metadata": {},
   "outputs": [],
   "source": [
    "y_test_sample[\"target\"] = preds"
   ]
  },
  {
   "cell_type": "code",
   "execution_count": 750,
   "id": "e93631e8",
   "metadata": {},
   "outputs": [
    {
     "name": "stdout",
     "output_type": "stream",
     "text": [
      "        index    target\n",
      "0      143522  0.023637\n",
      "1      116747  0.018540\n",
      "2       66075  0.117456\n",
      "3      133292  0.050008\n",
      "4       83134  0.038325\n",
      "...       ...       ...\n",
      "38871   44475  0.039764\n",
      "38872  103189  0.022502\n",
      "38873   48732  0.031868\n",
      "38874  135410  0.034778\n",
      "38875   73457  0.001417\n",
      "\n",
      "[38876 rows x 2 columns]\n"
     ]
    }
   ],
   "source": [
    "print(y_test_sample)"
   ]
  },
  {
   "cell_type": "code",
   "execution_count": 751,
   "id": "a5ef7046",
   "metadata": {},
   "outputs": [],
   "source": [
    "y_test_sample.to_csv('./y_test_sample.csv', index=False)"
   ]
  },
  {
   "cell_type": "code",
   "execution_count": 752,
   "id": "8a99a90d",
   "metadata": {},
   "outputs": [
    {
     "data": {
      "text/html": [
       "<div>\n",
       "<style scoped>\n",
       "    .dataframe tbody tr th:only-of-type {\n",
       "        vertical-align: middle;\n",
       "    }\n",
       "\n",
       "    .dataframe tbody tr th {\n",
       "        vertical-align: top;\n",
       "    }\n",
       "\n",
       "    .dataframe thead th {\n",
       "        text-align: right;\n",
       "    }\n",
       "</style>\n",
       "<table border=\"1\" class=\"dataframe\">\n",
       "  <thead>\n",
       "    <tr style=\"text-align: right;\">\n",
       "      <th></th>\n",
       "      <th>index</th>\n",
       "      <th>target</th>\n",
       "    </tr>\n",
       "  </thead>\n",
       "  <tbody>\n",
       "    <tr>\n",
       "      <th>0</th>\n",
       "      <td>143522</td>\n",
       "      <td>0.023637</td>\n",
       "    </tr>\n",
       "    <tr>\n",
       "      <th>1</th>\n",
       "      <td>116747</td>\n",
       "      <td>0.018540</td>\n",
       "    </tr>\n",
       "    <tr>\n",
       "      <th>2</th>\n",
       "      <td>66075</td>\n",
       "      <td>0.117456</td>\n",
       "    </tr>\n",
       "    <tr>\n",
       "      <th>3</th>\n",
       "      <td>133292</td>\n",
       "      <td>0.050008</td>\n",
       "    </tr>\n",
       "    <tr>\n",
       "      <th>4</th>\n",
       "      <td>83134</td>\n",
       "      <td>0.038325</td>\n",
       "    </tr>\n",
       "    <tr>\n",
       "      <th>...</th>\n",
       "      <td>...</td>\n",
       "      <td>...</td>\n",
       "    </tr>\n",
       "    <tr>\n",
       "      <th>38871</th>\n",
       "      <td>44475</td>\n",
       "      <td>0.039764</td>\n",
       "    </tr>\n",
       "    <tr>\n",
       "      <th>38872</th>\n",
       "      <td>103189</td>\n",
       "      <td>0.022502</td>\n",
       "    </tr>\n",
       "    <tr>\n",
       "      <th>38873</th>\n",
       "      <td>48732</td>\n",
       "      <td>0.031868</td>\n",
       "    </tr>\n",
       "    <tr>\n",
       "      <th>38874</th>\n",
       "      <td>135410</td>\n",
       "      <td>0.034778</td>\n",
       "    </tr>\n",
       "    <tr>\n",
       "      <th>38875</th>\n",
       "      <td>73457</td>\n",
       "      <td>0.001417</td>\n",
       "    </tr>\n",
       "  </tbody>\n",
       "</table>\n",
       "<p>38876 rows × 2 columns</p>\n",
       "</div>"
      ],
      "text/plain": [
       "        index    target\n",
       "0      143522  0.023637\n",
       "1      116747  0.018540\n",
       "2       66075  0.117456\n",
       "3      133292  0.050008\n",
       "4       83134  0.038325\n",
       "...       ...       ...\n",
       "38871   44475  0.039764\n",
       "38872  103189  0.022502\n",
       "38873   48732  0.031868\n",
       "38874  135410  0.034778\n",
       "38875   73457  0.001417\n",
       "\n",
       "[38876 rows x 2 columns]"
      ]
     },
     "execution_count": 752,
     "metadata": {},
     "output_type": "execute_result"
    }
   ],
   "source": [
    "y_test_sample_new = pd.read_csv('./y_test_sample.csv')\n",
    "y_test_sample_new"
   ]
  },
  {
   "cell_type": "code",
   "execution_count": 753,
   "id": "efbecb8f",
   "metadata": {},
   "outputs": [
    {
     "data": {
      "text/html": [
       "<div>\n",
       "<style scoped>\n",
       "    .dataframe tbody tr th:only-of-type {\n",
       "        vertical-align: middle;\n",
       "    }\n",
       "\n",
       "    .dataframe tbody tr th {\n",
       "        vertical-align: top;\n",
       "    }\n",
       "\n",
       "    .dataframe thead th {\n",
       "        text-align: right;\n",
       "    }\n",
       "</style>\n",
       "<table border=\"1\" class=\"dataframe\">\n",
       "  <thead>\n",
       "    <tr style=\"text-align: right;\">\n",
       "      <th></th>\n",
       "      <th>target</th>\n",
       "    </tr>\n",
       "  </thead>\n",
       "  <tbody>\n",
       "    <tr>\n",
       "      <th>1542</th>\n",
       "      <td>0.957867</td>\n",
       "    </tr>\n",
       "    <tr>\n",
       "      <th>4181</th>\n",
       "      <td>0.961162</td>\n",
       "    </tr>\n",
       "    <tr>\n",
       "      <th>4311</th>\n",
       "      <td>0.901812</td>\n",
       "    </tr>\n",
       "    <tr>\n",
       "      <th>4487</th>\n",
       "      <td>0.903333</td>\n",
       "    </tr>\n",
       "    <tr>\n",
       "      <th>4822</th>\n",
       "      <td>0.933983</td>\n",
       "    </tr>\n",
       "  </tbody>\n",
       "</table>\n",
       "</div>"
      ],
      "text/plain": [
       "        target\n",
       "1542  0.957867\n",
       "4181  0.961162\n",
       "4311  0.901812\n",
       "4487  0.903333\n",
       "4822  0.933983"
      ]
     },
     "execution_count": 753,
     "metadata": {},
     "output_type": "execute_result"
    }
   ],
   "source": [
    "y_test_sample_new.loc[y_test_sample_new['target'] > 0.9, ['target']].head()"
   ]
  },
  {
   "cell_type": "code",
   "execution_count": 754,
   "id": "dc5a1845",
   "metadata": {},
   "outputs": [
    {
     "data": {
      "text/html": [
       "<div>\n",
       "<style scoped>\n",
       "    .dataframe tbody tr th:only-of-type {\n",
       "        vertical-align: middle;\n",
       "    }\n",
       "\n",
       "    .dataframe tbody tr th {\n",
       "        vertical-align: top;\n",
       "    }\n",
       "\n",
       "    .dataframe thead th {\n",
       "        text-align: right;\n",
       "    }\n",
       "</style>\n",
       "<table border=\"1\" class=\"dataframe\">\n",
       "  <thead>\n",
       "    <tr style=\"text-align: right;\">\n",
       "      <th></th>\n",
       "      <th>target</th>\n",
       "    </tr>\n",
       "  </thead>\n",
       "  <tbody>\n",
       "    <tr>\n",
       "      <th>0</th>\n",
       "      <td>0.023637</td>\n",
       "    </tr>\n",
       "    <tr>\n",
       "      <th>1</th>\n",
       "      <td>0.018540</td>\n",
       "    </tr>\n",
       "    <tr>\n",
       "      <th>3</th>\n",
       "      <td>0.050008</td>\n",
       "    </tr>\n",
       "    <tr>\n",
       "      <th>4</th>\n",
       "      <td>0.038325</td>\n",
       "    </tr>\n",
       "    <tr>\n",
       "      <th>5</th>\n",
       "      <td>0.057283</td>\n",
       "    </tr>\n",
       "  </tbody>\n",
       "</table>\n",
       "</div>"
      ],
      "text/plain": [
       "     target\n",
       "0  0.023637\n",
       "1  0.018540\n",
       "3  0.050008\n",
       "4  0.038325\n",
       "5  0.057283"
      ]
     },
     "execution_count": 754,
     "metadata": {},
     "output_type": "execute_result"
    }
   ],
   "source": [
    "y_test_sample_new.loc[y_test_sample_new['target'] < 0.1, ['target']].head()"
   ]
  },
  {
   "cell_type": "code",
   "execution_count": null,
   "id": "4e495ebb",
   "metadata": {},
   "outputs": [],
   "source": []
  }
 ],
 "metadata": {
  "kernelspec": {
   "display_name": "Python 3 (ipykernel)",
   "language": "python",
   "name": "python3"
  },
  "language_info": {
   "codemirror_mode": {
    "name": "ipython",
    "version": 3
   },
   "file_extension": ".py",
   "mimetype": "text/x-python",
   "name": "python",
   "nbconvert_exporter": "python",
   "pygments_lexer": "ipython3",
   "version": "3.9.6"
  }
 },
 "nbformat": 4,
 "nbformat_minor": 5
}
