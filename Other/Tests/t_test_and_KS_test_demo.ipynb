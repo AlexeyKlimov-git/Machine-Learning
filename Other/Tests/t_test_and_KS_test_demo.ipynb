{
 "cells": [
  {
   "cell_type": "code",
   "execution_count": 1,
   "id": "12e26540",
   "metadata": {},
   "outputs": [],
   "source": [
    "from scipy import stats\n",
    "import numpy as np\n",
    "from matplotlib import pyplot as plt"
   ]
  },
  {
   "cell_type": "code",
   "execution_count": 2,
   "id": "e3730291",
   "metadata": {
    "scrolled": true
   },
   "outputs": [
    {
     "data": {
      "text/plain": [
       "Generator(PCG64) at 0x122FB0D3580"
      ]
     },
     "execution_count": 2,
     "metadata": {},
     "output_type": "execute_result"
    }
   ],
   "source": [
    "rng = np.random.default_rng()\n",
    "rng"
   ]
  },
  {
   "cell_type": "markdown",
   "id": "a997ac2e",
   "metadata": {},
   "source": [
    "# T-test\n",
    "\n",
    "Null hypothesis that 2 independent samples have identical average (expected) values. \n",
    "\n",
    "This test assumes that the populations have identical variances by default."
   ]
  },
  {
   "cell_type": "code",
   "execution_count": 4,
   "id": "db953363",
   "metadata": {},
   "outputs": [],
   "source": [
    "p_vals = []\n",
    "for _ in range(1000):\n",
    "    rvs1 = stats.norm.rvs(loc=5, scale=10, size=500, random_state=rng)\n",
    "    rvs2 = stats.norm.rvs(loc=5, scale=10, size=500, random_state=rng)\n",
    "    p_vals.append(stats.ttest_ind(rvs1, rvs2)[1])"
   ]
  },
  {
   "cell_type": "code",
   "execution_count": 5,
   "id": "ee897cd3",
   "metadata": {},
   "outputs": [
    {
     "data": {
      "image/png": "[encoded data removed]",
      "text/plain": [
       "<Figure size 432x288 with 1 Axes>"
      ]
     },
     "metadata": {
      "needs_background": "light"
     },
     "output_type": "display_data"
    }
   ],
   "source": [
    "plt.hist(p_vals)\n",
    "plt.show()"
   ]
  },
  {
   "cell_type": "markdown",
   "id": "088e95b9",
   "metadata": {},
   "source": [
    "for identically samples p-vals distributed uniformally"
   ]
  },
  {
   "cell_type": "code",
   "execution_count": null,
   "id": "e4085c00",
   "metadata": {},
   "outputs": [],
   "source": []
  },
  {
   "cell_type": "code",
   "execution_count": null,
   "id": "660349c7",
   "metadata": {},
   "outputs": [],
   "source": []
  },
  {
   "cell_type": "code",
   "execution_count": 8,
   "id": "30b7e024",
   "metadata": {},
   "outputs": [
    {
     "data": {
      "text/plain": [
       "Ttest_indResult(statistic=-0.07854149750991322, pvalue=0.9374130662861829)"
      ]
     },
     "execution_count": 8,
     "metadata": {},
     "output_type": "execute_result"
    }
   ],
   "source": [
    "# T-test with different variance:\n",
    "rvs3 = stats.norm.rvs(loc=5, scale=200, size=500, random_state=rng)\n",
    "stats.ttest_ind(rvs1, rvs3)"
   ]
  },
  {
   "cell_type": "code",
   "execution_count": 7,
   "id": "c27dd377",
   "metadata": {},
   "outputs": [
    {
     "data": {
      "image/png": "[encoded data removed]",
      "text/plain": [
       "<Figure size 432x288 with 1 Axes>"
      ]
     },
     "metadata": {
      "needs_background": "light"
     },
     "output_type": "display_data"
    }
   ],
   "source": [
    "plt.hist(rvs1, bins=100, alpha=0.5, label='x')\n",
    "plt.hist(rvs3, bins=100, alpha=0.5, label='y')\n",
    "plt.show()"
   ]
  },
  {
   "cell_type": "markdown",
   "id": "42267834",
   "metadata": {},
   "source": [
    "t-test cant catch difference btw samples w different variance"
   ]
  },
  {
   "cell_type": "code",
   "execution_count": null,
   "id": "89cafbc5",
   "metadata": {},
   "outputs": [],
   "source": []
  },
  {
   "cell_type": "code",
   "execution_count": null,
   "id": "e4d83579",
   "metadata": {},
   "outputs": [],
   "source": []
  },
  {
   "cell_type": "code",
   "execution_count": 9,
   "id": "f3abadf8",
   "metadata": {},
   "outputs": [
    {
     "data": {
      "image/png": "[encoded data removed]",
      "text/plain": [
       "<Figure size 432x288 with 1 Axes>"
      ]
     },
     "metadata": {
      "needs_background": "light"
     },
     "output_type": "display_data"
    },
    {
     "data": {
      "text/plain": [
       "Ttest_indResult(statistic=-4.1251199636876015, pvalue=4.014056940660199e-05)"
      ]
     },
     "execution_count": 9,
     "metadata": {},
     "output_type": "execute_result"
    }
   ],
   "source": [
    "# T-test with different means:\n",
    "rvs5 = stats.norm.rvs(loc=8, scale=10, size=500, random_state=rng)\n",
    "plt.hist(rvs1, bins=100, alpha=0.5, label='x')\n",
    "plt.hist(rvs5, bins=100, alpha=0.5, label='y')\n",
    "plt.show()\n",
    "stats.ttest_ind(rvs1, rvs5)"
   ]
  },
  {
   "cell_type": "markdown",
   "id": "9922f29e",
   "metadata": {},
   "source": [
    "Refer to test two samples have different average (expected) values"
   ]
  },
  {
   "cell_type": "code",
   "execution_count": null,
   "id": "d83ab19f",
   "metadata": {},
   "outputs": [],
   "source": []
  },
  {
   "cell_type": "code",
   "execution_count": null,
   "id": "350ae864",
   "metadata": {},
   "outputs": [],
   "source": []
  },
  {
   "cell_type": "markdown",
   "id": "b1a06c2a",
   "metadata": {},
   "source": [
    "**Take two samples, one of which has an extreme tail**"
   ]
  },
  {
   "cell_type": "code",
   "execution_count": 10,
   "id": "81097eb5",
   "metadata": {},
   "outputs": [],
   "source": [
    "a = (56, 128.6, 12, 123.8, 64.34, 78, 763.3)\n",
    "b = (1.1, 2.9, 4.2)"
   ]
  },
  {
   "cell_type": "code",
   "execution_count": 11,
   "id": "6982f92e",
   "metadata": {},
   "outputs": [
    {
     "data": {
      "text/plain": [
       "Ttest_indResult(statistic=1.099305186099593, pvalue=0.30361296704535845)"
      ]
     },
     "execution_count": 11,
     "metadata": {},
     "output_type": "execute_result"
    }
   ],
   "source": [
    "stats.ttest_ind(a, b)"
   ]
  },
  {
   "cell_type": "code",
   "execution_count": 12,
   "id": "048c8624",
   "metadata": {},
   "outputs": [],
   "source": [
    "trim=.2"
   ]
  },
  {
   "cell_type": "code",
   "execution_count": 13,
   "id": "2b75241e",
   "metadata": {},
   "outputs": [
    {
     "data": {
      "text/plain": [
       "1.4000000000000001"
      ]
     },
     "execution_count": 13,
     "metadata": {},
     "output_type": "execute_result"
    }
   ],
   "source": [
    "trim*len(a)"
   ]
  },
  {
   "cell_type": "code",
   "execution_count": 14,
   "id": "556c9e3f",
   "metadata": {},
   "outputs": [
    {
     "data": {
      "text/plain": [
       "1.0"
      ]
     },
     "execution_count": 14,
     "metadata": {},
     "output_type": "execute_result"
    }
   ],
   "source": [
    "np.floor(trim*len(a))"
   ]
  },
  {
   "cell_type": "code",
   "execution_count": 15,
   "id": "a9350418",
   "metadata": {},
   "outputs": [
    {
     "data": {
      "text/plain": [
       "0.0"
      ]
     },
     "execution_count": 15,
     "metadata": {},
     "output_type": "execute_result"
    }
   ],
   "source": [
    "np.floor(trim*len(b))"
   ]
  },
  {
   "cell_type": "code",
   "execution_count": 16,
   "id": "a7df5a7b",
   "metadata": {},
   "outputs": [
    {
     "data": {
      "text/plain": [
       "Ttest_indResult(statistic=3.4463884028073513, pvalue=0.01369338726499547)"
      ]
     },
     "execution_count": 16,
     "metadata": {},
     "output_type": "execute_result"
    }
   ],
   "source": [
    "stats.ttest_ind(a, b, trim=.2)"
   ]
  },
  {
   "cell_type": "code",
   "execution_count": null,
   "id": "c9ccbf4f",
   "metadata": {},
   "outputs": [],
   "source": []
  },
  {
   "cell_type": "code",
   "execution_count": null,
   "id": "20dfcc82",
   "metadata": {},
   "outputs": [],
   "source": []
  },
  {
   "cell_type": "markdown",
   "id": "c633f66a",
   "metadata": {},
   "source": [
    "# Two-samples KS-test"
   ]
  },
  {
   "cell_type": "code",
   "execution_count": 181,
   "id": "d5ecaa65",
   "metadata": {},
   "outputs": [],
   "source": [
    "from numpy.random import seed\n",
    "from numpy.random import randn\n",
    "from numpy.random import lognormal\n",
    "\n",
    "#set seed (e.g. make this example reproducible)\n",
    "seed(0)\n",
    "\n",
    "#generate two datasets\n",
    "K = [1, 1, 2]\n",
    "mu_0 = [0, 1, 0]\n",
    "\n",
    "data = []\n",
    "\n",
    "for mu_0, K in zip(mu_0, K):\n",
    "    data.append(mu_0 + K * randn(1000)) # N(mu_0, K^2)"
   ]
  },
  {
   "cell_type": "code",
   "execution_count": 182,
   "id": "1e23a89f",
   "metadata": {},
   "outputs": [],
   "source": [
    "# data[0]"
   ]
  },
  {
   "cell_type": "code",
   "execution_count": 189,
   "id": "900d3e32",
   "metadata": {},
   "outputs": [],
   "source": [
    "from scipy.stats import ks_2samp\n",
    "\n",
    "#perform Kolmogorov-Smirnov test\n",
    "# This test compares the underlying continuous distributions F(x) and G(x)\n",
    "# of two independent samples."
   ]
  },
  {
   "cell_type": "code",
   "execution_count": 190,
   "id": "b23ca6c1",
   "metadata": {},
   "outputs": [
    {
     "data": {
      "text/plain": [
       "KstestResult(statistic=0.0, pvalue=1.0)"
      ]
     },
     "execution_count": 190,
     "metadata": {},
     "output_type": "execute_result"
    }
   ],
   "source": [
    "ks_2samp(data[0], data[0])"
   ]
  },
  {
   "cell_type": "code",
   "execution_count": 202,
   "id": "409edc63",
   "metadata": {},
   "outputs": [
    {
     "data": {
      "image/png": "[encoded data removed]",
      "text/plain": [
       "<Figure size 432x288 with 1 Axes>"
      ]
     },
     "metadata": {
      "needs_background": "light"
     },
     "output_type": "display_data"
    }
   ],
   "source": [
    "plt.hist(data[0], bins=100, alpha=0.5, label='x')\n",
    "plt.show()"
   ]
  },
  {
   "cell_type": "code",
   "execution_count": 192,
   "id": "69aa64df",
   "metadata": {},
   "outputs": [
    {
     "data": {
      "text/plain": [
       "KstestResult(statistic=0.431, pvalue=9.256398497811612e-84)"
      ]
     },
     "execution_count": 192,
     "metadata": {},
     "output_type": "execute_result"
    }
   ],
   "source": [
    "ks_2samp(data[0], data[1])"
   ]
  },
  {
   "cell_type": "code",
   "execution_count": 194,
   "id": "bfdfbf60",
   "metadata": {},
   "outputs": [
    {
     "data": {
      "image/png": "[encoded data removed]",
      "text/plain": [
       "<Figure size 432x288 with 1 Axes>"
      ]
     },
     "metadata": {
      "needs_background": "light"
     },
     "output_type": "display_data"
    }
   ],
   "source": [
    "plt.hist(data[0], bins=100, alpha=0.5, label='x')\n",
    "plt.hist(data[1], bins=100, alpha=0.5, label='y')\n",
    "plt.show()"
   ]
  },
  {
   "cell_type": "code",
   "execution_count": 196,
   "id": "339d2936",
   "metadata": {},
   "outputs": [
    {
     "data": {
      "text/plain": [
       "KstestResult(statistic=0.18, pvalue=1.445613070447519e-14)"
      ]
     },
     "execution_count": 196,
     "metadata": {},
     "output_type": "execute_result"
    }
   ],
   "source": [
    "ks_2samp(data[0], data[2])"
   ]
  },
  {
   "cell_type": "code",
   "execution_count": 195,
   "id": "1959242d",
   "metadata": {},
   "outputs": [
    {
     "data": {
      "image/png": "[encoded data removed]",
      "text/plain": [
       "<Figure size 432x288 with 1 Axes>"
      ]
     },
     "metadata": {
      "needs_background": "light"
     },
     "output_type": "display_data"
    }
   ],
   "source": [
    "plt.hist(data[0], bins=100, alpha=0.5, label='x')\n",
    "plt.hist(data[2], bins=100, alpha=0.5, label='y')\n",
    "plt.show()"
   ]
  },
  {
   "cell_type": "code",
   "execution_count": null,
   "id": "15b316ac",
   "metadata": {},
   "outputs": [],
   "source": []
  },
  {
   "cell_type": "code",
   "execution_count": null,
   "id": "104b5707",
   "metadata": {},
   "outputs": [],
   "source": []
  },
  {
   "cell_type": "code",
   "execution_count": 197,
   "id": "41b6a342",
   "metadata": {},
   "outputs": [],
   "source": [
    "# pip install bootstrapped"
   ]
  },
  {
   "cell_type": "code",
   "execution_count": 17,
   "id": "5772dada",
   "metadata": {},
   "outputs": [
    {
     "name": "stdout",
     "output_type": "stream",
     "text": [
      "99.87854898722327    (99.22856273724493, 100.51435084853429)\n"
     ]
    }
   ],
   "source": [
    "import numpy as np\n",
    "import bootstrapped.bootstrap as bs\n",
    "import bootstrapped.stats_functions as bs_stats\n",
    "\n",
    "mean = 100\n",
    "stdev = 10\n",
    "\n",
    "population = np.random.normal(loc=mean, scale=stdev, size=50000)\n",
    "\n",
    "# take 1k 'samples' from the larger population\n",
    "samples = population[:1000]\n",
    "\n",
    "print(bs.bootstrap(samples, stat_func=bs_stats.mean))"
   ]
  },
  {
   "cell_type": "code",
   "execution_count": 18,
   "id": "ab731429",
   "metadata": {},
   "outputs": [
    {
     "data": {
      "text/plain": [
       "99.87854898722327"
      ]
     },
     "execution_count": 18,
     "metadata": {},
     "output_type": "execute_result"
    }
   ],
   "source": [
    "samples.mean()"
   ]
  },
  {
   "cell_type": "code",
   "execution_count": 19,
   "id": "3e3b34fb",
   "metadata": {},
   "outputs": [
    {
     "name": "stdout",
     "output_type": "stream",
     "text": [
      "10.191589506919637    (9.73290178341507, 10.647666801890303)\n"
     ]
    }
   ],
   "source": [
    "print(bs.bootstrap(samples, stat_func=bs_stats.std))"
   ]
  },
  {
   "cell_type": "code",
   "execution_count": 20,
   "id": "d0ebc552",
   "metadata": {},
   "outputs": [
    {
     "data": {
      "text/plain": [
       "10.191589506919637"
      ]
     },
     "execution_count": 20,
     "metadata": {},
     "output_type": "execute_result"
    }
   ],
   "source": [
    "samples.std()"
   ]
  },
  {
   "cell_type": "code",
   "execution_count": null,
   "id": "b2300a21",
   "metadata": {},
   "outputs": [],
   "source": []
  }
 ],
 "metadata": {
  "kernelspec": {
   "display_name": "Python 3 (ipykernel)",
   "language": "python",
   "name": "python3"
  },
  "language_info": {
   "codemirror_mode": {
    "name": "ipython",
    "version": 3
   },
   "file_extension": ".py",
   "mimetype": "text/x-python",
   "name": "python",
   "nbconvert_exporter": "python",
   "pygments_lexer": "ipython3",
   "version": "3.9.7"
  }
 },
 "nbformat": 4,
 "nbformat_minor": 5
}
