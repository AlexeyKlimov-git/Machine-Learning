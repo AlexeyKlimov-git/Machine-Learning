{
 "cells": [
  {
   "cell_type": "code",
   "execution_count": 36,
   "metadata": {},
   "outputs": [],
   "source": [
    "import numpy as np\n",
    "import pandas as pd"
   ]
  },
  {
   "cell_type": "code",
   "execution_count": 37,
   "metadata": {},
   "outputs": [],
   "source": [
    "def del_n_last_rows_from_csv(csv_file_name: str) -> None:\n",
    "    df = pd.read_csv(csv_file_name)\n",
    "    df = df.head(10000)\n",
    "    df.to_csv(csv_file_name, index=False, encoding='utf8')\n",
    "    print('Rows in result csv:', df.shape[0])"
   ]
  },
  {
   "cell_type": "code",
   "execution_count": 38,
   "metadata": {},
   "outputs": [
    {
     "name": "stdout",
     "output_type": "stream",
     "text": [
      "Rows in result csv: 10000\n"
     ]
    }
   ],
   "source": [
    "del_n_last_rows_from_csv('ratings_Beauty.csv')"
   ]
  },
  {
   "cell_type": "code",
   "execution_count": 39,
   "metadata": {},
   "outputs": [
    {
     "name": "stdout",
     "output_type": "stream",
     "text": [
      "Rows in result csv: 10000\n"
     ]
    }
   ],
   "source": [
    "del_n_last_rows_from_csv('product_descriptions.csv')"
   ]
  },
  {
   "cell_type": "code",
   "execution_count": null,
   "metadata": {},
   "outputs": [],
   "source": []
  }
 ],
 "metadata": {
  "kernelspec": {
   "display_name": "Python 3.9.6 64-bit",
   "language": "python",
   "name": "python3"
  },
  "language_info": {
   "codemirror_mode": {
    "name": "ipython",
    "version": 3
   },
   "file_extension": ".py",
   "mimetype": "text/x-python",
   "name": "python",
   "nbconvert_exporter": "python",
   "pygments_lexer": "ipython3",
   "version": "3.9.6"
  },
  "vscode": {
   "interpreter": {
    "hash": "ed440b3e73603ead034bbc1aefc87f16e1dad4a3e4cb3fbfb79233b646712d77"
   }
  }
 },
 "nbformat": 4,
 "nbformat_minor": 1
}
